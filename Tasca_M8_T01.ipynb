{
 "cells": [
  {
   "cell_type": "markdown",
   "id": "713c541e",
   "metadata": {},
   "source": [
    "## Tasca M8 T01"
   ]
  },
  {
   "cell_type": "markdown",
   "id": "9a9384e8",
   "metadata": {},
   "source": [
    "### Exercicis d'algoritmes d'Agrupació."
   ]
  },
  {
   "cell_type": "markdown",
   "id": "e247522a",
   "metadata": {},
   "source": [
    "### - Exercici 1\n",
    "### Descarrega el dataset adjunt, de registres de publicacions a Facebook sobre Tailàndia, i classifica els diferents registres utilitzant l'algorisme de K-means."
   ]
  },
  {
   "cell_type": "code",
   "execution_count": 330,
   "id": "fde5ae73",
   "metadata": {},
   "outputs": [],
   "source": [
    "import pandas as pd\n",
    "import numpy as np\n",
    "import matplotlib.pyplot as plt\n",
    "import seaborn as sns"
   ]
  },
  {
   "cell_type": "code",
   "execution_count": 331,
   "id": "9282a9f1",
   "metadata": {},
   "outputs": [
    {
     "data": {
      "text/html": [
       "<div>\n",
       "<style scoped>\n",
       "    .dataframe tbody tr th:only-of-type {\n",
       "        vertical-align: middle;\n",
       "    }\n",
       "\n",
       "    .dataframe tbody tr th {\n",
       "        vertical-align: top;\n",
       "    }\n",
       "\n",
       "    .dataframe thead th {\n",
       "        text-align: right;\n",
       "    }\n",
       "</style>\n",
       "<table border=\"1\" class=\"dataframe\">\n",
       "  <thead>\n",
       "    <tr style=\"text-align: right;\">\n",
       "      <th></th>\n",
       "      <th>status_id</th>\n",
       "      <th>status_type</th>\n",
       "      <th>status_published</th>\n",
       "      <th>num_reactions</th>\n",
       "      <th>num_comments</th>\n",
       "      <th>num_shares</th>\n",
       "      <th>num_likes</th>\n",
       "      <th>num_loves</th>\n",
       "      <th>num_wows</th>\n",
       "      <th>num_hahas</th>\n",
       "      <th>num_sads</th>\n",
       "      <th>num_angrys</th>\n",
       "      <th>Column1</th>\n",
       "      <th>Column2</th>\n",
       "      <th>Column3</th>\n",
       "      <th>Column4</th>\n",
       "    </tr>\n",
       "  </thead>\n",
       "  <tbody>\n",
       "    <tr>\n",
       "      <th>0</th>\n",
       "      <td>246675545449582_1649696485147474</td>\n",
       "      <td>video</td>\n",
       "      <td>4/22/2018 6:00</td>\n",
       "      <td>529</td>\n",
       "      <td>512</td>\n",
       "      <td>262</td>\n",
       "      <td>432</td>\n",
       "      <td>92</td>\n",
       "      <td>3</td>\n",
       "      <td>1</td>\n",
       "      <td>1</td>\n",
       "      <td>0</td>\n",
       "      <td>NaN</td>\n",
       "      <td>NaN</td>\n",
       "      <td>NaN</td>\n",
       "      <td>NaN</td>\n",
       "    </tr>\n",
       "    <tr>\n",
       "      <th>1</th>\n",
       "      <td>246675545449582_1649426988507757</td>\n",
       "      <td>photo</td>\n",
       "      <td>4/21/2018 22:45</td>\n",
       "      <td>150</td>\n",
       "      <td>0</td>\n",
       "      <td>0</td>\n",
       "      <td>150</td>\n",
       "      <td>0</td>\n",
       "      <td>0</td>\n",
       "      <td>0</td>\n",
       "      <td>0</td>\n",
       "      <td>0</td>\n",
       "      <td>NaN</td>\n",
       "      <td>NaN</td>\n",
       "      <td>NaN</td>\n",
       "      <td>NaN</td>\n",
       "    </tr>\n",
       "    <tr>\n",
       "      <th>2</th>\n",
       "      <td>246675545449582_1648730588577397</td>\n",
       "      <td>video</td>\n",
       "      <td>4/21/2018 6:17</td>\n",
       "      <td>227</td>\n",
       "      <td>236</td>\n",
       "      <td>57</td>\n",
       "      <td>204</td>\n",
       "      <td>21</td>\n",
       "      <td>1</td>\n",
       "      <td>1</td>\n",
       "      <td>0</td>\n",
       "      <td>0</td>\n",
       "      <td>NaN</td>\n",
       "      <td>NaN</td>\n",
       "      <td>NaN</td>\n",
       "      <td>NaN</td>\n",
       "    </tr>\n",
       "    <tr>\n",
       "      <th>3</th>\n",
       "      <td>246675545449582_1648576705259452</td>\n",
       "      <td>photo</td>\n",
       "      <td>4/21/2018 2:29</td>\n",
       "      <td>111</td>\n",
       "      <td>0</td>\n",
       "      <td>0</td>\n",
       "      <td>111</td>\n",
       "      <td>0</td>\n",
       "      <td>0</td>\n",
       "      <td>0</td>\n",
       "      <td>0</td>\n",
       "      <td>0</td>\n",
       "      <td>NaN</td>\n",
       "      <td>NaN</td>\n",
       "      <td>NaN</td>\n",
       "      <td>NaN</td>\n",
       "    </tr>\n",
       "    <tr>\n",
       "      <th>4</th>\n",
       "      <td>246675545449582_1645700502213739</td>\n",
       "      <td>photo</td>\n",
       "      <td>4/18/2018 3:22</td>\n",
       "      <td>213</td>\n",
       "      <td>0</td>\n",
       "      <td>0</td>\n",
       "      <td>204</td>\n",
       "      <td>9</td>\n",
       "      <td>0</td>\n",
       "      <td>0</td>\n",
       "      <td>0</td>\n",
       "      <td>0</td>\n",
       "      <td>NaN</td>\n",
       "      <td>NaN</td>\n",
       "      <td>NaN</td>\n",
       "      <td>NaN</td>\n",
       "    </tr>\n",
       "    <tr>\n",
       "      <th>...</th>\n",
       "      <td>...</td>\n",
       "      <td>...</td>\n",
       "      <td>...</td>\n",
       "      <td>...</td>\n",
       "      <td>...</td>\n",
       "      <td>...</td>\n",
       "      <td>...</td>\n",
       "      <td>...</td>\n",
       "      <td>...</td>\n",
       "      <td>...</td>\n",
       "      <td>...</td>\n",
       "      <td>...</td>\n",
       "      <td>...</td>\n",
       "      <td>...</td>\n",
       "      <td>...</td>\n",
       "      <td>...</td>\n",
       "    </tr>\n",
       "    <tr>\n",
       "      <th>7045</th>\n",
       "      <td>1050855161656896_1061863470556065</td>\n",
       "      <td>photo</td>\n",
       "      <td>9/24/2016 2:58</td>\n",
       "      <td>89</td>\n",
       "      <td>0</td>\n",
       "      <td>0</td>\n",
       "      <td>89</td>\n",
       "      <td>0</td>\n",
       "      <td>0</td>\n",
       "      <td>0</td>\n",
       "      <td>0</td>\n",
       "      <td>0</td>\n",
       "      <td>NaN</td>\n",
       "      <td>NaN</td>\n",
       "      <td>NaN</td>\n",
       "      <td>NaN</td>\n",
       "    </tr>\n",
       "    <tr>\n",
       "      <th>7046</th>\n",
       "      <td>1050855161656896_1061334757275603</td>\n",
       "      <td>photo</td>\n",
       "      <td>9/23/2016 11:19</td>\n",
       "      <td>16</td>\n",
       "      <td>0</td>\n",
       "      <td>0</td>\n",
       "      <td>14</td>\n",
       "      <td>1</td>\n",
       "      <td>0</td>\n",
       "      <td>1</td>\n",
       "      <td>0</td>\n",
       "      <td>0</td>\n",
       "      <td>NaN</td>\n",
       "      <td>NaN</td>\n",
       "      <td>NaN</td>\n",
       "      <td>NaN</td>\n",
       "    </tr>\n",
       "    <tr>\n",
       "      <th>7047</th>\n",
       "      <td>1050855161656896_1060126464063099</td>\n",
       "      <td>photo</td>\n",
       "      <td>9/21/2016 23:03</td>\n",
       "      <td>2</td>\n",
       "      <td>0</td>\n",
       "      <td>0</td>\n",
       "      <td>1</td>\n",
       "      <td>1</td>\n",
       "      <td>0</td>\n",
       "      <td>0</td>\n",
       "      <td>0</td>\n",
       "      <td>0</td>\n",
       "      <td>NaN</td>\n",
       "      <td>NaN</td>\n",
       "      <td>NaN</td>\n",
       "      <td>NaN</td>\n",
       "    </tr>\n",
       "    <tr>\n",
       "      <th>7048</th>\n",
       "      <td>1050855161656896_1058663487542730</td>\n",
       "      <td>photo</td>\n",
       "      <td>9/20/2016 0:43</td>\n",
       "      <td>351</td>\n",
       "      <td>12</td>\n",
       "      <td>22</td>\n",
       "      <td>349</td>\n",
       "      <td>2</td>\n",
       "      <td>0</td>\n",
       "      <td>0</td>\n",
       "      <td>0</td>\n",
       "      <td>0</td>\n",
       "      <td>NaN</td>\n",
       "      <td>NaN</td>\n",
       "      <td>NaN</td>\n",
       "      <td>NaN</td>\n",
       "    </tr>\n",
       "    <tr>\n",
       "      <th>7049</th>\n",
       "      <td>1050855161656896_1050858841656528</td>\n",
       "      <td>photo</td>\n",
       "      <td>9/10/2016 10:30</td>\n",
       "      <td>17</td>\n",
       "      <td>0</td>\n",
       "      <td>0</td>\n",
       "      <td>17</td>\n",
       "      <td>0</td>\n",
       "      <td>0</td>\n",
       "      <td>0</td>\n",
       "      <td>0</td>\n",
       "      <td>0</td>\n",
       "      <td>NaN</td>\n",
       "      <td>NaN</td>\n",
       "      <td>NaN</td>\n",
       "      <td>NaN</td>\n",
       "    </tr>\n",
       "  </tbody>\n",
       "</table>\n",
       "<p>7050 rows × 16 columns</p>\n",
       "</div>"
      ],
      "text/plain": [
       "                              status_id status_type status_published  \\\n",
       "0      246675545449582_1649696485147474       video   4/22/2018 6:00   \n",
       "1      246675545449582_1649426988507757       photo  4/21/2018 22:45   \n",
       "2      246675545449582_1648730588577397       video   4/21/2018 6:17   \n",
       "3      246675545449582_1648576705259452       photo   4/21/2018 2:29   \n",
       "4      246675545449582_1645700502213739       photo   4/18/2018 3:22   \n",
       "...                                 ...         ...              ...   \n",
       "7045  1050855161656896_1061863470556065       photo   9/24/2016 2:58   \n",
       "7046  1050855161656896_1061334757275603       photo  9/23/2016 11:19   \n",
       "7047  1050855161656896_1060126464063099       photo  9/21/2016 23:03   \n",
       "7048  1050855161656896_1058663487542730       photo   9/20/2016 0:43   \n",
       "7049  1050855161656896_1050858841656528       photo  9/10/2016 10:30   \n",
       "\n",
       "      num_reactions  num_comments  num_shares  num_likes  num_loves  num_wows  \\\n",
       "0               529           512         262        432         92         3   \n",
       "1               150             0           0        150          0         0   \n",
       "2               227           236          57        204         21         1   \n",
       "3               111             0           0        111          0         0   \n",
       "4               213             0           0        204          9         0   \n",
       "...             ...           ...         ...        ...        ...       ...   \n",
       "7045             89             0           0         89          0         0   \n",
       "7046             16             0           0         14          1         0   \n",
       "7047              2             0           0          1          1         0   \n",
       "7048            351            12          22        349          2         0   \n",
       "7049             17             0           0         17          0         0   \n",
       "\n",
       "      num_hahas  num_sads  num_angrys  Column1  Column2  Column3  Column4  \n",
       "0             1         1           0      NaN      NaN      NaN      NaN  \n",
       "1             0         0           0      NaN      NaN      NaN      NaN  \n",
       "2             1         0           0      NaN      NaN      NaN      NaN  \n",
       "3             0         0           0      NaN      NaN      NaN      NaN  \n",
       "4             0         0           0      NaN      NaN      NaN      NaN  \n",
       "...         ...       ...         ...      ...      ...      ...      ...  \n",
       "7045          0         0           0      NaN      NaN      NaN      NaN  \n",
       "7046          1         0           0      NaN      NaN      NaN      NaN  \n",
       "7047          0         0           0      NaN      NaN      NaN      NaN  \n",
       "7048          0         0           0      NaN      NaN      NaN      NaN  \n",
       "7049          0         0           0      NaN      NaN      NaN      NaN  \n",
       "\n",
       "[7050 rows x 16 columns]"
      ]
     },
     "execution_count": 331,
     "metadata": {},
     "output_type": "execute_result"
    }
   ],
   "source": [
    "df = pd.read_csv('Publicaciones_Facebook_Thailandia.csv')\n",
    "df"
   ]
  },
  {
   "cell_type": "markdown",
   "id": "cdc845da",
   "metadata": {},
   "source": [
    "### Description:\n",
    "\n",
    "#### 1. status_id: Numero de identificador único para cada publicación.\n",
    "#### 2. status_type: Tipo de publicación realizada. (texto, foto, video, etc)\n",
    "#### 3. status_published: Fecha y hora de la publicación.\n",
    "#### 4. num_reactions: Número total de reacciones que ha recibido la publicación. (me gusta, me encanta, me divierte, etc)\n",
    "#### 5. num_comments: Número total de comentarios realizados en la publicación.\n",
    "#### 6. num_shares: Número total de veces que se ha compartido la publicación.\n",
    "#### 7. num_likes: Número total de \"me gusta\".\n",
    "#### 8. num_loves: Número total de \"me encanta\".\n",
    "#### 9. num_wows: Número total de \"me divierte\".\n",
    "#### 10. num_hahas: Número total de \"me asombra\".\n",
    "#### 11. num_sads: Número total de \"me entristece\".\n",
    "#### 12. num_angrys: Número total de \"me enfada\"."
   ]
  },
  {
   "cell_type": "markdown",
   "id": "44ada404",
   "metadata": {},
   "source": [
    "### Limpieza y analisis exploratorio "
   ]
  },
  {
   "cell_type": "code",
   "execution_count": 332,
   "id": "91bfd38c",
   "metadata": {
    "scrolled": true
   },
   "outputs": [
    {
     "name": "stdout",
     "output_type": "stream",
     "text": [
      "<class 'pandas.core.frame.DataFrame'>\n",
      "RangeIndex: 7050 entries, 0 to 7049\n",
      "Data columns (total 16 columns):\n",
      " #   Column            Non-Null Count  Dtype  \n",
      "---  ------            --------------  -----  \n",
      " 0   status_id         7050 non-null   object \n",
      " 1   status_type       7050 non-null   object \n",
      " 2   status_published  7050 non-null   object \n",
      " 3   num_reactions     7050 non-null   int64  \n",
      " 4   num_comments      7050 non-null   int64  \n",
      " 5   num_shares        7050 non-null   int64  \n",
      " 6   num_likes         7050 non-null   int64  \n",
      " 7   num_loves         7050 non-null   int64  \n",
      " 8   num_wows          7050 non-null   int64  \n",
      " 9   num_hahas         7050 non-null   int64  \n",
      " 10  num_sads          7050 non-null   int64  \n",
      " 11  num_angrys        7050 non-null   int64  \n",
      " 12  Column1           0 non-null      float64\n",
      " 13  Column2           0 non-null      float64\n",
      " 14  Column3           0 non-null      float64\n",
      " 15  Column4           0 non-null      float64\n",
      "dtypes: float64(4), int64(9), object(3)\n",
      "memory usage: 881.4+ KB\n"
     ]
    }
   ],
   "source": [
    "df.info()"
   ]
  },
  {
   "cell_type": "code",
   "execution_count": 333,
   "id": "4a4e2624",
   "metadata": {},
   "outputs": [
    {
     "data": {
      "text/html": [
       "<div>\n",
       "<style scoped>\n",
       "    .dataframe tbody tr th:only-of-type {\n",
       "        vertical-align: middle;\n",
       "    }\n",
       "\n",
       "    .dataframe tbody tr th {\n",
       "        vertical-align: top;\n",
       "    }\n",
       "\n",
       "    .dataframe thead th {\n",
       "        text-align: right;\n",
       "    }\n",
       "</style>\n",
       "<table border=\"1\" class=\"dataframe\">\n",
       "  <thead>\n",
       "    <tr style=\"text-align: right;\">\n",
       "      <th></th>\n",
       "      <th>status_id</th>\n",
       "      <th>status_type</th>\n",
       "      <th>status_published</th>\n",
       "      <th>num_reactions</th>\n",
       "      <th>num_comments</th>\n",
       "      <th>num_shares</th>\n",
       "      <th>num_likes</th>\n",
       "      <th>num_loves</th>\n",
       "      <th>num_wows</th>\n",
       "      <th>num_hahas</th>\n",
       "      <th>num_sads</th>\n",
       "      <th>num_angrys</th>\n",
       "    </tr>\n",
       "  </thead>\n",
       "  <tbody>\n",
       "    <tr>\n",
       "      <th>0</th>\n",
       "      <td>246675545449582_1649696485147474</td>\n",
       "      <td>video</td>\n",
       "      <td>4/22/2018 6:00</td>\n",
       "      <td>529</td>\n",
       "      <td>512</td>\n",
       "      <td>262</td>\n",
       "      <td>432</td>\n",
       "      <td>92</td>\n",
       "      <td>3</td>\n",
       "      <td>1</td>\n",
       "      <td>1</td>\n",
       "      <td>0</td>\n",
       "    </tr>\n",
       "    <tr>\n",
       "      <th>1</th>\n",
       "      <td>246675545449582_1649426988507757</td>\n",
       "      <td>photo</td>\n",
       "      <td>4/21/2018 22:45</td>\n",
       "      <td>150</td>\n",
       "      <td>0</td>\n",
       "      <td>0</td>\n",
       "      <td>150</td>\n",
       "      <td>0</td>\n",
       "      <td>0</td>\n",
       "      <td>0</td>\n",
       "      <td>0</td>\n",
       "      <td>0</td>\n",
       "    </tr>\n",
       "    <tr>\n",
       "      <th>2</th>\n",
       "      <td>246675545449582_1648730588577397</td>\n",
       "      <td>video</td>\n",
       "      <td>4/21/2018 6:17</td>\n",
       "      <td>227</td>\n",
       "      <td>236</td>\n",
       "      <td>57</td>\n",
       "      <td>204</td>\n",
       "      <td>21</td>\n",
       "      <td>1</td>\n",
       "      <td>1</td>\n",
       "      <td>0</td>\n",
       "      <td>0</td>\n",
       "    </tr>\n",
       "    <tr>\n",
       "      <th>3</th>\n",
       "      <td>246675545449582_1648576705259452</td>\n",
       "      <td>photo</td>\n",
       "      <td>4/21/2018 2:29</td>\n",
       "      <td>111</td>\n",
       "      <td>0</td>\n",
       "      <td>0</td>\n",
       "      <td>111</td>\n",
       "      <td>0</td>\n",
       "      <td>0</td>\n",
       "      <td>0</td>\n",
       "      <td>0</td>\n",
       "      <td>0</td>\n",
       "    </tr>\n",
       "    <tr>\n",
       "      <th>4</th>\n",
       "      <td>246675545449582_1645700502213739</td>\n",
       "      <td>photo</td>\n",
       "      <td>4/18/2018 3:22</td>\n",
       "      <td>213</td>\n",
       "      <td>0</td>\n",
       "      <td>0</td>\n",
       "      <td>204</td>\n",
       "      <td>9</td>\n",
       "      <td>0</td>\n",
       "      <td>0</td>\n",
       "      <td>0</td>\n",
       "      <td>0</td>\n",
       "    </tr>\n",
       "    <tr>\n",
       "      <th>...</th>\n",
       "      <td>...</td>\n",
       "      <td>...</td>\n",
       "      <td>...</td>\n",
       "      <td>...</td>\n",
       "      <td>...</td>\n",
       "      <td>...</td>\n",
       "      <td>...</td>\n",
       "      <td>...</td>\n",
       "      <td>...</td>\n",
       "      <td>...</td>\n",
       "      <td>...</td>\n",
       "      <td>...</td>\n",
       "    </tr>\n",
       "    <tr>\n",
       "      <th>7045</th>\n",
       "      <td>1050855161656896_1061863470556065</td>\n",
       "      <td>photo</td>\n",
       "      <td>9/24/2016 2:58</td>\n",
       "      <td>89</td>\n",
       "      <td>0</td>\n",
       "      <td>0</td>\n",
       "      <td>89</td>\n",
       "      <td>0</td>\n",
       "      <td>0</td>\n",
       "      <td>0</td>\n",
       "      <td>0</td>\n",
       "      <td>0</td>\n",
       "    </tr>\n",
       "    <tr>\n",
       "      <th>7046</th>\n",
       "      <td>1050855161656896_1061334757275603</td>\n",
       "      <td>photo</td>\n",
       "      <td>9/23/2016 11:19</td>\n",
       "      <td>16</td>\n",
       "      <td>0</td>\n",
       "      <td>0</td>\n",
       "      <td>14</td>\n",
       "      <td>1</td>\n",
       "      <td>0</td>\n",
       "      <td>1</td>\n",
       "      <td>0</td>\n",
       "      <td>0</td>\n",
       "    </tr>\n",
       "    <tr>\n",
       "      <th>7047</th>\n",
       "      <td>1050855161656896_1060126464063099</td>\n",
       "      <td>photo</td>\n",
       "      <td>9/21/2016 23:03</td>\n",
       "      <td>2</td>\n",
       "      <td>0</td>\n",
       "      <td>0</td>\n",
       "      <td>1</td>\n",
       "      <td>1</td>\n",
       "      <td>0</td>\n",
       "      <td>0</td>\n",
       "      <td>0</td>\n",
       "      <td>0</td>\n",
       "    </tr>\n",
       "    <tr>\n",
       "      <th>7048</th>\n",
       "      <td>1050855161656896_1058663487542730</td>\n",
       "      <td>photo</td>\n",
       "      <td>9/20/2016 0:43</td>\n",
       "      <td>351</td>\n",
       "      <td>12</td>\n",
       "      <td>22</td>\n",
       "      <td>349</td>\n",
       "      <td>2</td>\n",
       "      <td>0</td>\n",
       "      <td>0</td>\n",
       "      <td>0</td>\n",
       "      <td>0</td>\n",
       "    </tr>\n",
       "    <tr>\n",
       "      <th>7049</th>\n",
       "      <td>1050855161656896_1050858841656528</td>\n",
       "      <td>photo</td>\n",
       "      <td>9/10/2016 10:30</td>\n",
       "      <td>17</td>\n",
       "      <td>0</td>\n",
       "      <td>0</td>\n",
       "      <td>17</td>\n",
       "      <td>0</td>\n",
       "      <td>0</td>\n",
       "      <td>0</td>\n",
       "      <td>0</td>\n",
       "      <td>0</td>\n",
       "    </tr>\n",
       "  </tbody>\n",
       "</table>\n",
       "<p>7050 rows × 12 columns</p>\n",
       "</div>"
      ],
      "text/plain": [
       "                              status_id status_type status_published  \\\n",
       "0      246675545449582_1649696485147474       video   4/22/2018 6:00   \n",
       "1      246675545449582_1649426988507757       photo  4/21/2018 22:45   \n",
       "2      246675545449582_1648730588577397       video   4/21/2018 6:17   \n",
       "3      246675545449582_1648576705259452       photo   4/21/2018 2:29   \n",
       "4      246675545449582_1645700502213739       photo   4/18/2018 3:22   \n",
       "...                                 ...         ...              ...   \n",
       "7045  1050855161656896_1061863470556065       photo   9/24/2016 2:58   \n",
       "7046  1050855161656896_1061334757275603       photo  9/23/2016 11:19   \n",
       "7047  1050855161656896_1060126464063099       photo  9/21/2016 23:03   \n",
       "7048  1050855161656896_1058663487542730       photo   9/20/2016 0:43   \n",
       "7049  1050855161656896_1050858841656528       photo  9/10/2016 10:30   \n",
       "\n",
       "      num_reactions  num_comments  num_shares  num_likes  num_loves  num_wows  \\\n",
       "0               529           512         262        432         92         3   \n",
       "1               150             0           0        150          0         0   \n",
       "2               227           236          57        204         21         1   \n",
       "3               111             0           0        111          0         0   \n",
       "4               213             0           0        204          9         0   \n",
       "...             ...           ...         ...        ...        ...       ...   \n",
       "7045             89             0           0         89          0         0   \n",
       "7046             16             0           0         14          1         0   \n",
       "7047              2             0           0          1          1         0   \n",
       "7048            351            12          22        349          2         0   \n",
       "7049             17             0           0         17          0         0   \n",
       "\n",
       "      num_hahas  num_sads  num_angrys  \n",
       "0             1         1           0  \n",
       "1             0         0           0  \n",
       "2             1         0           0  \n",
       "3             0         0           0  \n",
       "4             0         0           0  \n",
       "...         ...       ...         ...  \n",
       "7045          0         0           0  \n",
       "7046          1         0           0  \n",
       "7047          0         0           0  \n",
       "7048          0         0           0  \n",
       "7049          0         0           0  \n",
       "\n",
       "[7050 rows x 12 columns]"
      ]
     },
     "execution_count": 333,
     "metadata": {},
     "output_type": "execute_result"
    }
   ],
   "source": [
    "drop_nan = ['Column1','Column2', 'Column3', 'Column4']\n",
    "df = df.drop(columns=drop_nan)\n",
    "df"
   ]
  },
  {
   "cell_type": "markdown",
   "id": "abc75053",
   "metadata": {},
   "source": [
    "#### Primeramente eliminamos las columnas que contienen datos nulos."
   ]
  },
  {
   "cell_type": "code",
   "execution_count": 334,
   "id": "5839bae1",
   "metadata": {
    "scrolled": false
   },
   "outputs": [
    {
     "data": {
      "text/plain": [
       "status_id           0\n",
       "status_type         0\n",
       "status_published    0\n",
       "num_reactions       0\n",
       "num_comments        0\n",
       "num_shares          0\n",
       "num_likes           0\n",
       "num_loves           0\n",
       "num_wows            0\n",
       "num_hahas           0\n",
       "num_sads            0\n",
       "num_angrys          0\n",
       "dtype: int64"
      ]
     },
     "execution_count": 334,
     "metadata": {},
     "output_type": "execute_result"
    }
   ],
   "source": [
    "df.isna().sum()"
   ]
  },
  {
   "cell_type": "markdown",
   "id": "6f7687ed",
   "metadata": {},
   "source": [
    "#### Sumamos los valores nulos para verificar que no haya ninguno."
   ]
  },
  {
   "cell_type": "code",
   "execution_count": 335,
   "id": "cd7a1a12",
   "metadata": {},
   "outputs": [
    {
     "data": {
      "text/plain": [
       "51"
      ]
     },
     "execution_count": 335,
     "metadata": {},
     "output_type": "execute_result"
    }
   ],
   "source": [
    "df.duplicated().sum()"
   ]
  },
  {
   "cell_type": "code",
   "execution_count": 336,
   "id": "d6bb2f4e",
   "metadata": {},
   "outputs": [],
   "source": [
    "df = df.drop_duplicates()"
   ]
  },
  {
   "cell_type": "code",
   "execution_count": 337,
   "id": "11626e1f",
   "metadata": {},
   "outputs": [
    {
     "data": {
      "text/plain": [
       "0"
      ]
     },
     "execution_count": 337,
     "metadata": {},
     "output_type": "execute_result"
    }
   ],
   "source": [
    "df.duplicated().sum()"
   ]
  },
  {
   "cell_type": "markdown",
   "id": "c8b11eb4",
   "metadata": {},
   "source": [
    "#### Verificamos la existencia de valores duplicados y procedemos a eliminarlos."
   ]
  },
  {
   "cell_type": "code",
   "execution_count": 338,
   "id": "b6ab2123",
   "metadata": {
    "scrolled": true
   },
   "outputs": [
    {
     "name": "stdout",
     "output_type": "stream",
     "text": [
      "['246675545449582' '134115277150304' '146481362756646' '117059915488335'\n",
      " '848451358648417' '725980084255106' '614855718638584' '819700534875473'\n",
      " '1050855161656896']\n"
     ]
    },
    {
     "name": "stderr",
     "output_type": "stream",
     "text": [
      "/var/folders/qn/t_d0_whn09sdmbx1px99544c0000gn/T/ipykernel_1384/428890183.py:1: SettingWithCopyWarning: \n",
      "A value is trying to be set on a copy of a slice from a DataFrame.\n",
      "Try using .loc[row_indexer,col_indexer] = value instead\n",
      "\n",
      "See the caveats in the documentation: https://pandas.pydata.org/pandas-docs/stable/user_guide/indexing.html#returning-a-view-versus-a-copy\n",
      "  df['user_id'] = df['status_id'].str.split('_').str[0]\n"
     ]
    }
   ],
   "source": [
    "df['user_id'] = df['status_id'].str.split('_').str[0]\n",
    "\n",
    "# Verificar la repetición de los primeros valores\n",
    "user_id_repetidos = df['user_id'].duplicated()\n",
    "\n",
    "print(df.loc[user_id_repetidos, 'user_id'].unique())\n"
   ]
  },
  {
   "cell_type": "markdown",
   "id": "957ecbae",
   "metadata": {},
   "source": [
    "#### Procedemos a separar los strings de la primer columna del dataset, en donde luego de identificar los duplicados podemos ver que existen 9 diferentes, lo cual nos indica que la primer parte del string previo al \"_\"corresponde al numero de usuario y la segunda parte del string corresponde posiblemente al numero de publicación."
   ]
  },
  {
   "cell_type": "code",
   "execution_count": 339,
   "id": "2a99bd33",
   "metadata": {},
   "outputs": [
    {
     "name": "stderr",
     "output_type": "stream",
     "text": [
      "/var/folders/qn/t_d0_whn09sdmbx1px99544c0000gn/T/ipykernel_1384/2821602529.py:1: SettingWithCopyWarning: \n",
      "A value is trying to be set on a copy of a slice from a DataFrame.\n",
      "Try using .loc[row_indexer,col_indexer] = value instead\n",
      "\n",
      "See the caveats in the documentation: https://pandas.pydata.org/pandas-docs/stable/user_guide/indexing.html#returning-a-view-versus-a-copy\n",
      "  df[['user_id', 'publication_id']] = df['status_id'].str.split('_', expand=True)\n",
      "/var/folders/qn/t_d0_whn09sdmbx1px99544c0000gn/T/ipykernel_1384/2821602529.py:1: SettingWithCopyWarning: \n",
      "A value is trying to be set on a copy of a slice from a DataFrame.\n",
      "Try using .loc[row_indexer,col_indexer] = value instead\n",
      "\n",
      "See the caveats in the documentation: https://pandas.pydata.org/pandas-docs/stable/user_guide/indexing.html#returning-a-view-versus-a-copy\n",
      "  df[['user_id', 'publication_id']] = df['status_id'].str.split('_', expand=True)\n",
      "/var/folders/qn/t_d0_whn09sdmbx1px99544c0000gn/T/ipykernel_1384/2821602529.py:2: SettingWithCopyWarning: \n",
      "A value is trying to be set on a copy of a slice from a DataFrame\n",
      "\n",
      "See the caveats in the documentation: https://pandas.pydata.org/pandas-docs/stable/user_guide/indexing.html#returning-a-view-versus-a-copy\n",
      "  df.drop(['status_id'], axis=1, inplace=True)\n"
     ]
    },
    {
     "data": {
      "text/html": [
       "<div>\n",
       "<style scoped>\n",
       "    .dataframe tbody tr th:only-of-type {\n",
       "        vertical-align: middle;\n",
       "    }\n",
       "\n",
       "    .dataframe tbody tr th {\n",
       "        vertical-align: top;\n",
       "    }\n",
       "\n",
       "    .dataframe thead th {\n",
       "        text-align: right;\n",
       "    }\n",
       "</style>\n",
       "<table border=\"1\" class=\"dataframe\">\n",
       "  <thead>\n",
       "    <tr style=\"text-align: right;\">\n",
       "      <th></th>\n",
       "      <th>status_type</th>\n",
       "      <th>status_published</th>\n",
       "      <th>num_reactions</th>\n",
       "      <th>num_comments</th>\n",
       "      <th>num_shares</th>\n",
       "      <th>num_likes</th>\n",
       "      <th>num_loves</th>\n",
       "      <th>num_wows</th>\n",
       "      <th>num_hahas</th>\n",
       "      <th>num_sads</th>\n",
       "      <th>num_angrys</th>\n",
       "      <th>user_id</th>\n",
       "      <th>publication_id</th>\n",
       "    </tr>\n",
       "  </thead>\n",
       "  <tbody>\n",
       "    <tr>\n",
       "      <th>0</th>\n",
       "      <td>video</td>\n",
       "      <td>4/22/2018 6:00</td>\n",
       "      <td>529</td>\n",
       "      <td>512</td>\n",
       "      <td>262</td>\n",
       "      <td>432</td>\n",
       "      <td>92</td>\n",
       "      <td>3</td>\n",
       "      <td>1</td>\n",
       "      <td>1</td>\n",
       "      <td>0</td>\n",
       "      <td>246675545449582</td>\n",
       "      <td>1649696485147474</td>\n",
       "    </tr>\n",
       "    <tr>\n",
       "      <th>1</th>\n",
       "      <td>photo</td>\n",
       "      <td>4/21/2018 22:45</td>\n",
       "      <td>150</td>\n",
       "      <td>0</td>\n",
       "      <td>0</td>\n",
       "      <td>150</td>\n",
       "      <td>0</td>\n",
       "      <td>0</td>\n",
       "      <td>0</td>\n",
       "      <td>0</td>\n",
       "      <td>0</td>\n",
       "      <td>246675545449582</td>\n",
       "      <td>1649426988507757</td>\n",
       "    </tr>\n",
       "    <tr>\n",
       "      <th>2</th>\n",
       "      <td>video</td>\n",
       "      <td>4/21/2018 6:17</td>\n",
       "      <td>227</td>\n",
       "      <td>236</td>\n",
       "      <td>57</td>\n",
       "      <td>204</td>\n",
       "      <td>21</td>\n",
       "      <td>1</td>\n",
       "      <td>1</td>\n",
       "      <td>0</td>\n",
       "      <td>0</td>\n",
       "      <td>246675545449582</td>\n",
       "      <td>1648730588577397</td>\n",
       "    </tr>\n",
       "    <tr>\n",
       "      <th>3</th>\n",
       "      <td>photo</td>\n",
       "      <td>4/21/2018 2:29</td>\n",
       "      <td>111</td>\n",
       "      <td>0</td>\n",
       "      <td>0</td>\n",
       "      <td>111</td>\n",
       "      <td>0</td>\n",
       "      <td>0</td>\n",
       "      <td>0</td>\n",
       "      <td>0</td>\n",
       "      <td>0</td>\n",
       "      <td>246675545449582</td>\n",
       "      <td>1648576705259452</td>\n",
       "    </tr>\n",
       "    <tr>\n",
       "      <th>4</th>\n",
       "      <td>photo</td>\n",
       "      <td>4/18/2018 3:22</td>\n",
       "      <td>213</td>\n",
       "      <td>0</td>\n",
       "      <td>0</td>\n",
       "      <td>204</td>\n",
       "      <td>9</td>\n",
       "      <td>0</td>\n",
       "      <td>0</td>\n",
       "      <td>0</td>\n",
       "      <td>0</td>\n",
       "      <td>246675545449582</td>\n",
       "      <td>1645700502213739</td>\n",
       "    </tr>\n",
       "  </tbody>\n",
       "</table>\n",
       "</div>"
      ],
      "text/plain": [
       "  status_type status_published  num_reactions  num_comments  num_shares  \\\n",
       "0       video   4/22/2018 6:00            529           512         262   \n",
       "1       photo  4/21/2018 22:45            150             0           0   \n",
       "2       video   4/21/2018 6:17            227           236          57   \n",
       "3       photo   4/21/2018 2:29            111             0           0   \n",
       "4       photo   4/18/2018 3:22            213             0           0   \n",
       "\n",
       "   num_likes  num_loves  num_wows  num_hahas  num_sads  num_angrys  \\\n",
       "0        432         92         3          1         1           0   \n",
       "1        150          0         0          0         0           0   \n",
       "2        204         21         1          1         0           0   \n",
       "3        111          0         0          0         0           0   \n",
       "4        204          9         0          0         0           0   \n",
       "\n",
       "           user_id    publication_id  \n",
       "0  246675545449582  1649696485147474  \n",
       "1  246675545449582  1649426988507757  \n",
       "2  246675545449582  1648730588577397  \n",
       "3  246675545449582  1648576705259452  \n",
       "4  246675545449582  1645700502213739  "
      ]
     },
     "execution_count": 339,
     "metadata": {},
     "output_type": "execute_result"
    }
   ],
   "source": [
    "df[['user_id', 'publication_id']] = df['status_id'].str.split('_', expand=True)\n",
    "df.drop(['status_id'], axis=1, inplace=True)\n",
    "df.head()"
   ]
  },
  {
   "cell_type": "code",
   "execution_count": 340,
   "id": "14949510",
   "metadata": {},
   "outputs": [
    {
     "data": {
      "text/html": [
       "<div>\n",
       "<style scoped>\n",
       "    .dataframe tbody tr th:only-of-type {\n",
       "        vertical-align: middle;\n",
       "    }\n",
       "\n",
       "    .dataframe tbody tr th {\n",
       "        vertical-align: top;\n",
       "    }\n",
       "\n",
       "    .dataframe thead th {\n",
       "        text-align: right;\n",
       "    }\n",
       "</style>\n",
       "<table border=\"1\" class=\"dataframe\">\n",
       "  <thead>\n",
       "    <tr style=\"text-align: right;\">\n",
       "      <th></th>\n",
       "      <th>user_id</th>\n",
       "      <th>publication_id</th>\n",
       "      <th>status_type</th>\n",
       "      <th>num_reactions</th>\n",
       "      <th>num_comments</th>\n",
       "      <th>num_shares</th>\n",
       "      <th>num_likes</th>\n",
       "      <th>num_loves</th>\n",
       "      <th>num_wows</th>\n",
       "      <th>num_hahas</th>\n",
       "      <th>num_sads</th>\n",
       "      <th>num_angrys</th>\n",
       "    </tr>\n",
       "  </thead>\n",
       "  <tbody>\n",
       "    <tr>\n",
       "      <th>0</th>\n",
       "      <td>246675545449582</td>\n",
       "      <td>1649696485147474</td>\n",
       "      <td>video</td>\n",
       "      <td>529</td>\n",
       "      <td>512</td>\n",
       "      <td>262</td>\n",
       "      <td>432</td>\n",
       "      <td>92</td>\n",
       "      <td>3</td>\n",
       "      <td>1</td>\n",
       "      <td>1</td>\n",
       "      <td>0</td>\n",
       "    </tr>\n",
       "    <tr>\n",
       "      <th>1</th>\n",
       "      <td>246675545449582</td>\n",
       "      <td>1649426988507757</td>\n",
       "      <td>photo</td>\n",
       "      <td>150</td>\n",
       "      <td>0</td>\n",
       "      <td>0</td>\n",
       "      <td>150</td>\n",
       "      <td>0</td>\n",
       "      <td>0</td>\n",
       "      <td>0</td>\n",
       "      <td>0</td>\n",
       "      <td>0</td>\n",
       "    </tr>\n",
       "    <tr>\n",
       "      <th>2</th>\n",
       "      <td>246675545449582</td>\n",
       "      <td>1648730588577397</td>\n",
       "      <td>video</td>\n",
       "      <td>227</td>\n",
       "      <td>236</td>\n",
       "      <td>57</td>\n",
       "      <td>204</td>\n",
       "      <td>21</td>\n",
       "      <td>1</td>\n",
       "      <td>1</td>\n",
       "      <td>0</td>\n",
       "      <td>0</td>\n",
       "    </tr>\n",
       "    <tr>\n",
       "      <th>3</th>\n",
       "      <td>246675545449582</td>\n",
       "      <td>1648576705259452</td>\n",
       "      <td>photo</td>\n",
       "      <td>111</td>\n",
       "      <td>0</td>\n",
       "      <td>0</td>\n",
       "      <td>111</td>\n",
       "      <td>0</td>\n",
       "      <td>0</td>\n",
       "      <td>0</td>\n",
       "      <td>0</td>\n",
       "      <td>0</td>\n",
       "    </tr>\n",
       "    <tr>\n",
       "      <th>4</th>\n",
       "      <td>246675545449582</td>\n",
       "      <td>1645700502213739</td>\n",
       "      <td>photo</td>\n",
       "      <td>213</td>\n",
       "      <td>0</td>\n",
       "      <td>0</td>\n",
       "      <td>204</td>\n",
       "      <td>9</td>\n",
       "      <td>0</td>\n",
       "      <td>0</td>\n",
       "      <td>0</td>\n",
       "      <td>0</td>\n",
       "    </tr>\n",
       "    <tr>\n",
       "      <th>5</th>\n",
       "      <td>246675545449582</td>\n",
       "      <td>1645650162218773</td>\n",
       "      <td>photo</td>\n",
       "      <td>217</td>\n",
       "      <td>6</td>\n",
       "      <td>0</td>\n",
       "      <td>211</td>\n",
       "      <td>5</td>\n",
       "      <td>1</td>\n",
       "      <td>0</td>\n",
       "      <td>0</td>\n",
       "      <td>0</td>\n",
       "    </tr>\n",
       "    <tr>\n",
       "      <th>6</th>\n",
       "      <td>246675545449582</td>\n",
       "      <td>1645564175560705</td>\n",
       "      <td>video</td>\n",
       "      <td>503</td>\n",
       "      <td>614</td>\n",
       "      <td>72</td>\n",
       "      <td>418</td>\n",
       "      <td>70</td>\n",
       "      <td>10</td>\n",
       "      <td>2</td>\n",
       "      <td>0</td>\n",
       "      <td>3</td>\n",
       "    </tr>\n",
       "    <tr>\n",
       "      <th>7</th>\n",
       "      <td>246675545449582</td>\n",
       "      <td>1644824665634656</td>\n",
       "      <td>video</td>\n",
       "      <td>295</td>\n",
       "      <td>453</td>\n",
       "      <td>53</td>\n",
       "      <td>260</td>\n",
       "      <td>32</td>\n",
       "      <td>1</td>\n",
       "      <td>1</td>\n",
       "      <td>0</td>\n",
       "      <td>1</td>\n",
       "    </tr>\n",
       "    <tr>\n",
       "      <th>8</th>\n",
       "      <td>246675545449582</td>\n",
       "      <td>1644655795651543</td>\n",
       "      <td>photo</td>\n",
       "      <td>203</td>\n",
       "      <td>1</td>\n",
       "      <td>0</td>\n",
       "      <td>198</td>\n",
       "      <td>5</td>\n",
       "      <td>0</td>\n",
       "      <td>0</td>\n",
       "      <td>0</td>\n",
       "      <td>0</td>\n",
       "    </tr>\n",
       "    <tr>\n",
       "      <th>9</th>\n",
       "      <td>246675545449582</td>\n",
       "      <td>1638788379571618</td>\n",
       "      <td>photo</td>\n",
       "      <td>170</td>\n",
       "      <td>9</td>\n",
       "      <td>1</td>\n",
       "      <td>167</td>\n",
       "      <td>3</td>\n",
       "      <td>0</td>\n",
       "      <td>0</td>\n",
       "      <td>0</td>\n",
       "      <td>0</td>\n",
       "    </tr>\n",
       "  </tbody>\n",
       "</table>\n",
       "</div>"
      ],
      "text/plain": [
       "           user_id    publication_id status_type  num_reactions  num_comments  \\\n",
       "0  246675545449582  1649696485147474       video            529           512   \n",
       "1  246675545449582  1649426988507757       photo            150             0   \n",
       "2  246675545449582  1648730588577397       video            227           236   \n",
       "3  246675545449582  1648576705259452       photo            111             0   \n",
       "4  246675545449582  1645700502213739       photo            213             0   \n",
       "5  246675545449582  1645650162218773       photo            217             6   \n",
       "6  246675545449582  1645564175560705       video            503           614   \n",
       "7  246675545449582  1644824665634656       video            295           453   \n",
       "8  246675545449582  1644655795651543       photo            203             1   \n",
       "9  246675545449582  1638788379571618       photo            170             9   \n",
       "\n",
       "   num_shares  num_likes  num_loves  num_wows  num_hahas  num_sads  num_angrys  \n",
       "0         262        432         92         3          1         1           0  \n",
       "1           0        150          0         0          0         0           0  \n",
       "2          57        204         21         1          1         0           0  \n",
       "3           0        111          0         0          0         0           0  \n",
       "4           0        204          9         0          0         0           0  \n",
       "5           0        211          5         1          0         0           0  \n",
       "6          72        418         70        10          2         0           3  \n",
       "7          53        260         32         1          1         0           1  \n",
       "8           0        198          5         0          0         0           0  \n",
       "9           1        167          3         0          0         0           0  "
      ]
     },
     "execution_count": 340,
     "metadata": {},
     "output_type": "execute_result"
    }
   ],
   "source": [
    "df = df.reindex(columns=['user_id','publication_id', 'status_type','num_reactions', 'num_comments', 'num_shares', 'num_likes', 'num_loves', 'num_wows', 'num_hahas', 'num_sads', 'num_angrys'])\n",
    "df.head(10)"
   ]
  },
  {
   "cell_type": "code",
   "execution_count": 341,
   "id": "3d066246",
   "metadata": {},
   "outputs": [
    {
     "data": {
      "text/plain": [
       "246675545449582     2635\n",
       "614855718638584     1440\n",
       "134115277150304     1212\n",
       "1050855161656896     778\n",
       "848451358648417      450\n",
       "725980084255106      252\n",
       "146481362756646      125\n",
       "117059915488335       56\n",
       "819700534875473       51\n",
       "Name: user_id, dtype: int64"
      ]
     },
     "execution_count": 341,
     "metadata": {},
     "output_type": "execute_result"
    }
   ],
   "source": [
    "df['user_id'].value_counts()"
   ]
  },
  {
   "cell_type": "code",
   "execution_count": 342,
   "id": "712e894b",
   "metadata": {
    "scrolled": false
   },
   "outputs": [
    {
     "data": {
      "image/png": "[encoded data removed]",
      "text/plain": [
       "<Figure size 640x480 with 1 Axes>"
      ]
     },
     "metadata": {},
     "output_type": "display_data"
    }
   ],
   "source": [
    "value_counts = df['user_id'].value_counts()\n",
    "sns.barplot(x=value_counts.index, y=value_counts.values)\n",
    "plt.xticks(rotation=90)\n",
    "plt.show()"
   ]
  },
  {
   "cell_type": "markdown",
   "id": "333fcfb4",
   "metadata": {},
   "source": [
    "#### Luego de aplicar un conteo de los valores en la columna \"user_id\" realizamos un pequeño grafico de barras para tener una noción de la cantidad de publicaciones realizada por cada usuario."
   ]
  },
  {
   "cell_type": "code",
   "execution_count": 343,
   "id": "ac26c211",
   "metadata": {
    "scrolled": true
   },
   "outputs": [
    {
     "data": {
      "text/plain": [
       "photo     4244\n",
       "video     2333\n",
       "status     359\n",
       "link        63\n",
       "Name: status_type, dtype: int64"
      ]
     },
     "execution_count": 343,
     "metadata": {},
     "output_type": "execute_result"
    }
   ],
   "source": [
    "df['status_type'].value_counts()"
   ]
  },
  {
   "cell_type": "code",
   "execution_count": 344,
   "id": "7f03c5e8",
   "metadata": {
    "scrolled": false
   },
   "outputs": [
    {
     "data": {
      "image/png": "[encoded data removed]",
      "text/plain": [
       "<Figure size 640x480 with 1 Axes>"
      ]
     },
     "metadata": {},
     "output_type": "display_data"
    }
   ],
   "source": [
    "value_counts = df['status_type'].value_counts()\n",
    "sns.barplot(x=value_counts.index, y=value_counts.values)\n",
    "plt.xticks(rotation=90)\n",
    "plt.show()"
   ]
  },
  {
   "cell_type": "markdown",
   "id": "346a9a2b",
   "metadata": {},
   "source": [
    "#### Al igual que anteriormente con \"user_id\" aplicamos un conteo de valores para la columna \"status_type\" de esta manera podemos ver que existen cuatro diferentes tipos (fotos, videos, status y link) en donde luego de realizar un grafico de barras para comparar las cantidades podemos llegar a la conclusion que esta es una columna de tipo categorica a la cual se tendra que aplicar un proceso de estandarizacion diferente a las numericas."
   ]
  },
  {
   "cell_type": "code",
   "execution_count": 345,
   "id": "286aab72",
   "metadata": {
    "scrolled": false
   },
   "outputs": [
    {
     "data": {
      "text/html": [
       "<div>\n",
       "<style scoped>\n",
       "    .dataframe tbody tr th:only-of-type {\n",
       "        vertical-align: middle;\n",
       "    }\n",
       "\n",
       "    .dataframe tbody tr th {\n",
       "        vertical-align: top;\n",
       "    }\n",
       "\n",
       "    .dataframe thead th {\n",
       "        text-align: right;\n",
       "    }\n",
       "</style>\n",
       "<table border=\"1\" class=\"dataframe\">\n",
       "  <thead>\n",
       "    <tr style=\"text-align: right;\">\n",
       "      <th></th>\n",
       "      <th>count</th>\n",
       "      <th>mean</th>\n",
       "      <th>std</th>\n",
       "      <th>min</th>\n",
       "      <th>25%</th>\n",
       "      <th>50%</th>\n",
       "      <th>75%</th>\n",
       "      <th>max</th>\n",
       "    </tr>\n",
       "  </thead>\n",
       "  <tbody>\n",
       "    <tr>\n",
       "      <th>num_reactions</th>\n",
       "      <td>6999.0</td>\n",
       "      <td>224.994571</td>\n",
       "      <td>452.880746</td>\n",
       "      <td>0.0</td>\n",
       "      <td>17.0</td>\n",
       "      <td>58.0</td>\n",
       "      <td>216.0</td>\n",
       "      <td>4710.0</td>\n",
       "    </tr>\n",
       "    <tr>\n",
       "      <th>num_comments</th>\n",
       "      <td>6999.0</td>\n",
       "      <td>225.552079</td>\n",
       "      <td>892.743010</td>\n",
       "      <td>0.0</td>\n",
       "      <td>0.0</td>\n",
       "      <td>4.0</td>\n",
       "      <td>22.0</td>\n",
       "      <td>20990.0</td>\n",
       "    </tr>\n",
       "    <tr>\n",
       "      <th>num_shares</th>\n",
       "      <td>6999.0</td>\n",
       "      <td>40.258608</td>\n",
       "      <td>132.046903</td>\n",
       "      <td>0.0</td>\n",
       "      <td>0.0</td>\n",
       "      <td>0.0</td>\n",
       "      <td>4.0</td>\n",
       "      <td>3424.0</td>\n",
       "    </tr>\n",
       "    <tr>\n",
       "      <th>num_likes</th>\n",
       "      <td>6999.0</td>\n",
       "      <td>209.946707</td>\n",
       "      <td>439.550330</td>\n",
       "      <td>0.0</td>\n",
       "      <td>17.0</td>\n",
       "      <td>57.0</td>\n",
       "      <td>182.0</td>\n",
       "      <td>4710.0</td>\n",
       "    </tr>\n",
       "    <tr>\n",
       "      <th>num_loves</th>\n",
       "      <td>6999.0</td>\n",
       "      <td>12.751536</td>\n",
       "      <td>40.106872</td>\n",
       "      <td>0.0</td>\n",
       "      <td>0.0</td>\n",
       "      <td>0.0</td>\n",
       "      <td>3.0</td>\n",
       "      <td>657.0</td>\n",
       "    </tr>\n",
       "    <tr>\n",
       "      <th>num_wows</th>\n",
       "      <td>6999.0</td>\n",
       "      <td>1.252893</td>\n",
       "      <td>8.725551</td>\n",
       "      <td>0.0</td>\n",
       "      <td>0.0</td>\n",
       "      <td>0.0</td>\n",
       "      <td>0.0</td>\n",
       "      <td>278.0</td>\n",
       "    </tr>\n",
       "    <tr>\n",
       "      <th>num_hahas</th>\n",
       "      <td>6999.0</td>\n",
       "      <td>0.697957</td>\n",
       "      <td>3.970912</td>\n",
       "      <td>0.0</td>\n",
       "      <td>0.0</td>\n",
       "      <td>0.0</td>\n",
       "      <td>0.0</td>\n",
       "      <td>157.0</td>\n",
       "    </tr>\n",
       "    <tr>\n",
       "      <th>num_sads</th>\n",
       "      <td>6999.0</td>\n",
       "      <td>0.232605</td>\n",
       "      <td>1.481105</td>\n",
       "      <td>0.0</td>\n",
       "      <td>0.0</td>\n",
       "      <td>0.0</td>\n",
       "      <td>0.0</td>\n",
       "      <td>51.0</td>\n",
       "    </tr>\n",
       "    <tr>\n",
       "      <th>num_angrys</th>\n",
       "      <td>6999.0</td>\n",
       "      <td>0.110159</td>\n",
       "      <td>0.688582</td>\n",
       "      <td>0.0</td>\n",
       "      <td>0.0</td>\n",
       "      <td>0.0</td>\n",
       "      <td>0.0</td>\n",
       "      <td>31.0</td>\n",
       "    </tr>\n",
       "  </tbody>\n",
       "</table>\n",
       "</div>"
      ],
      "text/plain": [
       "                count        mean         std  min   25%   50%    75%      max\n",
       "num_reactions  6999.0  224.994571  452.880746  0.0  17.0  58.0  216.0   4710.0\n",
       "num_comments   6999.0  225.552079  892.743010  0.0   0.0   4.0   22.0  20990.0\n",
       "num_shares     6999.0   40.258608  132.046903  0.0   0.0   0.0    4.0   3424.0\n",
       "num_likes      6999.0  209.946707  439.550330  0.0  17.0  57.0  182.0   4710.0\n",
       "num_loves      6999.0   12.751536   40.106872  0.0   0.0   0.0    3.0    657.0\n",
       "num_wows       6999.0    1.252893    8.725551  0.0   0.0   0.0    0.0    278.0\n",
       "num_hahas      6999.0    0.697957    3.970912  0.0   0.0   0.0    0.0    157.0\n",
       "num_sads       6999.0    0.232605    1.481105  0.0   0.0   0.0    0.0     51.0\n",
       "num_angrys     6999.0    0.110159    0.688582  0.0   0.0   0.0    0.0     31.0"
      ]
     },
     "execution_count": 345,
     "metadata": {},
     "output_type": "execute_result"
    }
   ],
   "source": [
    "df.describe().T"
   ]
  },
  {
   "cell_type": "markdown",
   "id": "00673299",
   "metadata": {},
   "source": [
    "#### Una visualizacion rapida de las principales columnas con datos numericos mediante el metodo describe()"
   ]
  },
  {
   "cell_type": "code",
   "execution_count": 346,
   "id": "08254fd0",
   "metadata": {
    "scrolled": false
   },
   "outputs": [
    {
     "name": "stdout",
     "output_type": "stream",
     "text": [
      "<class 'pandas.core.frame.DataFrame'>\n",
      "Int64Index: 6999 entries, 0 to 7049\n",
      "Data columns (total 12 columns):\n",
      " #   Column          Non-Null Count  Dtype \n",
      "---  ------          --------------  ----- \n",
      " 0   user_id         6999 non-null   object\n",
      " 1   publication_id  6999 non-null   object\n",
      " 2   status_type     6999 non-null   object\n",
      " 3   num_reactions   6999 non-null   int64 \n",
      " 4   num_comments    6999 non-null   int64 \n",
      " 5   num_shares      6999 non-null   int64 \n",
      " 6   num_likes       6999 non-null   int64 \n",
      " 7   num_loves       6999 non-null   int64 \n",
      " 8   num_wows        6999 non-null   int64 \n",
      " 9   num_hahas       6999 non-null   int64 \n",
      " 10  num_sads        6999 non-null   int64 \n",
      " 11  num_angrys      6999 non-null   int64 \n",
      "dtypes: int64(9), object(3)\n",
      "memory usage: 710.8+ KB\n"
     ]
    }
   ],
   "source": [
    "df.info()"
   ]
  },
  {
   "cell_type": "markdown",
   "id": "66069606",
   "metadata": {},
   "source": [
    "#### Mediante el metodo info() corroboramos que las primeras tres columnas son de tipo objeto lo cual tendra que ser tomado en cuenta mas adelante a la hora de trabajar con estos datos."
   ]
  },
  {
   "cell_type": "code",
   "execution_count": 347,
   "id": "fc007a1c",
   "metadata": {
    "scrolled": true
   },
   "outputs": [
    {
     "data": {
      "text/plain": [
       "Text(0.5, 1.0, 'Boxplot')"
      ]
     },
     "execution_count": 347,
     "metadata": {},
     "output_type": "execute_result"
    },
    {
     "data": {
      "image/png": "[encoded data removed]",
      "text/plain": [
       "<Figure size 1600x600 with 1 Axes>"
      ]
     },
     "metadata": {},
     "output_type": "display_data"
    }
   ],
   "source": [
    "fig = plt.figure(figsize=(16,6))\n",
    "sns.boxplot(df)\n",
    "plt.title('Boxplot')"
   ]
  },
  {
   "cell_type": "markdown",
   "id": "080e5a3d",
   "metadata": {},
   "source": [
    "#### Luego de realizar un BoxPlot de todas las variables numericas podemos ver que en todas existen Outliers, lo cual es importante para saber que se aplicara RobustScaler a la hora de normalizar y estandarizar los datos."
   ]
  },
  {
   "cell_type": "code",
   "execution_count": 348,
   "id": "54b54cd8",
   "metadata": {},
   "outputs": [
    {
     "name": "stderr",
     "output_type": "stream",
     "text": [
      "/var/folders/qn/t_d0_whn09sdmbx1px99544c0000gn/T/ipykernel_1384/3010623801.py:1: FutureWarning: The default value of numeric_only in DataFrame.corr is deprecated. In a future version, it will default to False. Select only valid columns or specify the value of numeric_only to silence this warning.\n",
      "  correlacion = df.corr()\n"
     ]
    },
    {
     "data": {
      "image/png": "[encoded data removed]",
      "text/plain": [
       "<Figure size 1200x600 with 2 Axes>"
      ]
     },
     "metadata": {},
     "output_type": "display_data"
    }
   ],
   "source": [
    "correlacion = df.corr()\n",
    "plt.figure(figsize=(12,6))\n",
    "sns.heatmap(correlacion, cmap='coolwarm', annot=True)\n",
    "plt.show()"
   ]
  },
  {
   "cell_type": "markdown",
   "id": "87e28ed0",
   "metadata": {},
   "source": [
    "#### Por ultimo en cuanto al analisis exploratorio de nuestros datos realizamos una tabla de correlación entre nuesteas variables, en donde principalmente encontramos: \n",
    "\n",
    "#### Una fuerte correlación positiva entre el numero de reacciones y el numero de likes.\n",
    "#### Una fuerte correlación positiva entre el numero de me encanta y el numero de compartidos.\n",
    "#### Una correlacion alta entre el numero de compartidos y el numero de comentarios.\n",
    "#### Ademas se ven correlaciones medias entre numero de me encanta y numero de comentarios, asi como tambien entre me divierte y me encanta."
   ]
  },
  {
   "cell_type": "markdown",
   "id": "378059e7",
   "metadata": {},
   "source": [
    "### Preprocesado"
   ]
  },
  {
   "cell_type": "code",
   "execution_count": 349,
   "id": "bcb6bb96",
   "metadata": {
    "scrolled": true
   },
   "outputs": [
    {
     "data": {
      "text/html": [
       "<div>\n",
       "<style scoped>\n",
       "    .dataframe tbody tr th:only-of-type {\n",
       "        vertical-align: middle;\n",
       "    }\n",
       "\n",
       "    .dataframe tbody tr th {\n",
       "        vertical-align: top;\n",
       "    }\n",
       "\n",
       "    .dataframe thead th {\n",
       "        text-align: right;\n",
       "    }\n",
       "</style>\n",
       "<table border=\"1\" class=\"dataframe\">\n",
       "  <thead>\n",
       "    <tr style=\"text-align: right;\">\n",
       "      <th></th>\n",
       "      <th>status_type_link</th>\n",
       "      <th>status_type_photo</th>\n",
       "      <th>status_type_status</th>\n",
       "      <th>status_type_video</th>\n",
       "    </tr>\n",
       "  </thead>\n",
       "  <tbody>\n",
       "    <tr>\n",
       "      <th>0</th>\n",
       "      <td>0</td>\n",
       "      <td>0</td>\n",
       "      <td>0</td>\n",
       "      <td>1</td>\n",
       "    </tr>\n",
       "    <tr>\n",
       "      <th>1</th>\n",
       "      <td>0</td>\n",
       "      <td>1</td>\n",
       "      <td>0</td>\n",
       "      <td>0</td>\n",
       "    </tr>\n",
       "    <tr>\n",
       "      <th>2</th>\n",
       "      <td>0</td>\n",
       "      <td>0</td>\n",
       "      <td>0</td>\n",
       "      <td>1</td>\n",
       "    </tr>\n",
       "    <tr>\n",
       "      <th>3</th>\n",
       "      <td>0</td>\n",
       "      <td>1</td>\n",
       "      <td>0</td>\n",
       "      <td>0</td>\n",
       "    </tr>\n",
       "    <tr>\n",
       "      <th>4</th>\n",
       "      <td>0</td>\n",
       "      <td>1</td>\n",
       "      <td>0</td>\n",
       "      <td>0</td>\n",
       "    </tr>\n",
       "    <tr>\n",
       "      <th>...</th>\n",
       "      <td>...</td>\n",
       "      <td>...</td>\n",
       "      <td>...</td>\n",
       "      <td>...</td>\n",
       "    </tr>\n",
       "    <tr>\n",
       "      <th>7045</th>\n",
       "      <td>0</td>\n",
       "      <td>1</td>\n",
       "      <td>0</td>\n",
       "      <td>0</td>\n",
       "    </tr>\n",
       "    <tr>\n",
       "      <th>7046</th>\n",
       "      <td>0</td>\n",
       "      <td>1</td>\n",
       "      <td>0</td>\n",
       "      <td>0</td>\n",
       "    </tr>\n",
       "    <tr>\n",
       "      <th>7047</th>\n",
       "      <td>0</td>\n",
       "      <td>1</td>\n",
       "      <td>0</td>\n",
       "      <td>0</td>\n",
       "    </tr>\n",
       "    <tr>\n",
       "      <th>7048</th>\n",
       "      <td>0</td>\n",
       "      <td>1</td>\n",
       "      <td>0</td>\n",
       "      <td>0</td>\n",
       "    </tr>\n",
       "    <tr>\n",
       "      <th>7049</th>\n",
       "      <td>0</td>\n",
       "      <td>1</td>\n",
       "      <td>0</td>\n",
       "      <td>0</td>\n",
       "    </tr>\n",
       "  </tbody>\n",
       "</table>\n",
       "<p>6999 rows × 4 columns</p>\n",
       "</div>"
      ],
      "text/plain": [
       "      status_type_link  status_type_photo  status_type_status  \\\n",
       "0                    0                  0                   0   \n",
       "1                    0                  1                   0   \n",
       "2                    0                  0                   0   \n",
       "3                    0                  1                   0   \n",
       "4                    0                  1                   0   \n",
       "...                ...                ...                 ...   \n",
       "7045                 0                  1                   0   \n",
       "7046                 0                  1                   0   \n",
       "7047                 0                  1                   0   \n",
       "7048                 0                  1                   0   \n",
       "7049                 0                  1                   0   \n",
       "\n",
       "      status_type_video  \n",
       "0                     1  \n",
       "1                     0  \n",
       "2                     1  \n",
       "3                     0  \n",
       "4                     0  \n",
       "...                 ...  \n",
       "7045                  0  \n",
       "7046                  0  \n",
       "7047                  0  \n",
       "7048                  0  \n",
       "7049                  0  \n",
       "\n",
       "[6999 rows x 4 columns]"
      ]
     },
     "execution_count": 349,
     "metadata": {},
     "output_type": "execute_result"
    }
   ],
   "source": [
    "df_dummies= pd.get_dummies(df[\"status_type\"], prefix=\"status_type\")\n",
    "df_dummies"
   ]
  },
  {
   "cell_type": "code",
   "execution_count": 350,
   "id": "6f2ea15f",
   "metadata": {},
   "outputs": [],
   "source": [
    "drop_non_numeric = ['user_id','publication_id', 'status_type']\n",
    "df = df.drop(columns=drop_non_numeric)"
   ]
  },
  {
   "cell_type": "markdown",
   "id": "26a869b9",
   "metadata": {},
   "source": [
    "#### Como habiamos comentado anteriormente la variable status_type es de tipo catagorica, por lo que aplicamos get_dummies para separarla en cuatro variables (status_type_link, status_type_photo, status_type_status y status_type_video), posteriormente se procede a eliminar la columna status_type ademas de las columnas user_id y publication_id ya que estos datos podrian alterar los resultados y para nuestro caso de estudio no son relevantes. "
   ]
  },
  {
   "cell_type": "code",
   "execution_count": 351,
   "id": "d3ac2683",
   "metadata": {
    "scrolled": true
   },
   "outputs": [
    {
     "data": {
      "text/html": [
       "<div>\n",
       "<style scoped>\n",
       "    .dataframe tbody tr th:only-of-type {\n",
       "        vertical-align: middle;\n",
       "    }\n",
       "\n",
       "    .dataframe tbody tr th {\n",
       "        vertical-align: top;\n",
       "    }\n",
       "\n",
       "    .dataframe thead th {\n",
       "        text-align: right;\n",
       "    }\n",
       "</style>\n",
       "<table border=\"1\" class=\"dataframe\">\n",
       "  <thead>\n",
       "    <tr style=\"text-align: right;\">\n",
       "      <th></th>\n",
       "      <th>num_reactions</th>\n",
       "      <th>num_comments</th>\n",
       "      <th>num_shares</th>\n",
       "      <th>num_likes</th>\n",
       "      <th>num_loves</th>\n",
       "      <th>num_wows</th>\n",
       "      <th>num_hahas</th>\n",
       "      <th>num_sads</th>\n",
       "      <th>num_angrys</th>\n",
       "      <th>status_type_link</th>\n",
       "      <th>status_type_photo</th>\n",
       "      <th>status_type_status</th>\n",
       "      <th>status_type_video</th>\n",
       "    </tr>\n",
       "  </thead>\n",
       "  <tbody>\n",
       "    <tr>\n",
       "      <th>0</th>\n",
       "      <td>529</td>\n",
       "      <td>512</td>\n",
       "      <td>262</td>\n",
       "      <td>432</td>\n",
       "      <td>92</td>\n",
       "      <td>3</td>\n",
       "      <td>1</td>\n",
       "      <td>1</td>\n",
       "      <td>0</td>\n",
       "      <td>0</td>\n",
       "      <td>0</td>\n",
       "      <td>0</td>\n",
       "      <td>1</td>\n",
       "    </tr>\n",
       "    <tr>\n",
       "      <th>1</th>\n",
       "      <td>150</td>\n",
       "      <td>0</td>\n",
       "      <td>0</td>\n",
       "      <td>150</td>\n",
       "      <td>0</td>\n",
       "      <td>0</td>\n",
       "      <td>0</td>\n",
       "      <td>0</td>\n",
       "      <td>0</td>\n",
       "      <td>0</td>\n",
       "      <td>1</td>\n",
       "      <td>0</td>\n",
       "      <td>0</td>\n",
       "    </tr>\n",
       "    <tr>\n",
       "      <th>2</th>\n",
       "      <td>227</td>\n",
       "      <td>236</td>\n",
       "      <td>57</td>\n",
       "      <td>204</td>\n",
       "      <td>21</td>\n",
       "      <td>1</td>\n",
       "      <td>1</td>\n",
       "      <td>0</td>\n",
       "      <td>0</td>\n",
       "      <td>0</td>\n",
       "      <td>0</td>\n",
       "      <td>0</td>\n",
       "      <td>1</td>\n",
       "    </tr>\n",
       "    <tr>\n",
       "      <th>3</th>\n",
       "      <td>111</td>\n",
       "      <td>0</td>\n",
       "      <td>0</td>\n",
       "      <td>111</td>\n",
       "      <td>0</td>\n",
       "      <td>0</td>\n",
       "      <td>0</td>\n",
       "      <td>0</td>\n",
       "      <td>0</td>\n",
       "      <td>0</td>\n",
       "      <td>1</td>\n",
       "      <td>0</td>\n",
       "      <td>0</td>\n",
       "    </tr>\n",
       "    <tr>\n",
       "      <th>4</th>\n",
       "      <td>213</td>\n",
       "      <td>0</td>\n",
       "      <td>0</td>\n",
       "      <td>204</td>\n",
       "      <td>9</td>\n",
       "      <td>0</td>\n",
       "      <td>0</td>\n",
       "      <td>0</td>\n",
       "      <td>0</td>\n",
       "      <td>0</td>\n",
       "      <td>1</td>\n",
       "      <td>0</td>\n",
       "      <td>0</td>\n",
       "    </tr>\n",
       "    <tr>\n",
       "      <th>...</th>\n",
       "      <td>...</td>\n",
       "      <td>...</td>\n",
       "      <td>...</td>\n",
       "      <td>...</td>\n",
       "      <td>...</td>\n",
       "      <td>...</td>\n",
       "      <td>...</td>\n",
       "      <td>...</td>\n",
       "      <td>...</td>\n",
       "      <td>...</td>\n",
       "      <td>...</td>\n",
       "      <td>...</td>\n",
       "      <td>...</td>\n",
       "    </tr>\n",
       "    <tr>\n",
       "      <th>6994</th>\n",
       "      <td>89</td>\n",
       "      <td>0</td>\n",
       "      <td>0</td>\n",
       "      <td>89</td>\n",
       "      <td>0</td>\n",
       "      <td>0</td>\n",
       "      <td>0</td>\n",
       "      <td>0</td>\n",
       "      <td>0</td>\n",
       "      <td>0</td>\n",
       "      <td>1</td>\n",
       "      <td>0</td>\n",
       "      <td>0</td>\n",
       "    </tr>\n",
       "    <tr>\n",
       "      <th>6995</th>\n",
       "      <td>16</td>\n",
       "      <td>0</td>\n",
       "      <td>0</td>\n",
       "      <td>14</td>\n",
       "      <td>1</td>\n",
       "      <td>0</td>\n",
       "      <td>1</td>\n",
       "      <td>0</td>\n",
       "      <td>0</td>\n",
       "      <td>0</td>\n",
       "      <td>1</td>\n",
       "      <td>0</td>\n",
       "      <td>0</td>\n",
       "    </tr>\n",
       "    <tr>\n",
       "      <th>6996</th>\n",
       "      <td>2</td>\n",
       "      <td>0</td>\n",
       "      <td>0</td>\n",
       "      <td>1</td>\n",
       "      <td>1</td>\n",
       "      <td>0</td>\n",
       "      <td>0</td>\n",
       "      <td>0</td>\n",
       "      <td>0</td>\n",
       "      <td>0</td>\n",
       "      <td>1</td>\n",
       "      <td>0</td>\n",
       "      <td>0</td>\n",
       "    </tr>\n",
       "    <tr>\n",
       "      <th>6997</th>\n",
       "      <td>351</td>\n",
       "      <td>12</td>\n",
       "      <td>22</td>\n",
       "      <td>349</td>\n",
       "      <td>2</td>\n",
       "      <td>0</td>\n",
       "      <td>0</td>\n",
       "      <td>0</td>\n",
       "      <td>0</td>\n",
       "      <td>0</td>\n",
       "      <td>1</td>\n",
       "      <td>0</td>\n",
       "      <td>0</td>\n",
       "    </tr>\n",
       "    <tr>\n",
       "      <th>6998</th>\n",
       "      <td>17</td>\n",
       "      <td>0</td>\n",
       "      <td>0</td>\n",
       "      <td>17</td>\n",
       "      <td>0</td>\n",
       "      <td>0</td>\n",
       "      <td>0</td>\n",
       "      <td>0</td>\n",
       "      <td>0</td>\n",
       "      <td>0</td>\n",
       "      <td>1</td>\n",
       "      <td>0</td>\n",
       "      <td>0</td>\n",
       "    </tr>\n",
       "  </tbody>\n",
       "</table>\n",
       "<p>6999 rows × 13 columns</p>\n",
       "</div>"
      ],
      "text/plain": [
       "      num_reactions  num_comments  num_shares  num_likes  num_loves  num_wows  \\\n",
       "0               529           512         262        432         92         3   \n",
       "1               150             0           0        150          0         0   \n",
       "2               227           236          57        204         21         1   \n",
       "3               111             0           0        111          0         0   \n",
       "4               213             0           0        204          9         0   \n",
       "...             ...           ...         ...        ...        ...       ...   \n",
       "6994             89             0           0         89          0         0   \n",
       "6995             16             0           0         14          1         0   \n",
       "6996              2             0           0          1          1         0   \n",
       "6997            351            12          22        349          2         0   \n",
       "6998             17             0           0         17          0         0   \n",
       "\n",
       "      num_hahas  num_sads  num_angrys  status_type_link  status_type_photo  \\\n",
       "0             1         1           0                 0                  0   \n",
       "1             0         0           0                 0                  1   \n",
       "2             1         0           0                 0                  0   \n",
       "3             0         0           0                 0                  1   \n",
       "4             0         0           0                 0                  1   \n",
       "...         ...       ...         ...               ...                ...   \n",
       "6994          0         0           0                 0                  1   \n",
       "6995          1         0           0                 0                  1   \n",
       "6996          0         0           0                 0                  1   \n",
       "6997          0         0           0                 0                  1   \n",
       "6998          0         0           0                 0                  1   \n",
       "\n",
       "      status_type_status  status_type_video  \n",
       "0                      0                  1  \n",
       "1                      0                  0  \n",
       "2                      0                  1  \n",
       "3                      0                  0  \n",
       "4                      0                  0  \n",
       "...                  ...                ...  \n",
       "6994                   0                  0  \n",
       "6995                   0                  0  \n",
       "6996                   0                  0  \n",
       "6997                   0                  0  \n",
       "6998                   0                  0  \n",
       "\n",
       "[6999 rows x 13 columns]"
      ]
     },
     "execution_count": 351,
     "metadata": {},
     "output_type": "execute_result"
    }
   ],
   "source": [
    "df = pd.concat([df.reset_index(drop=True), df_dummies.reset_index(drop=True)], axis=1)\n",
    "df"
   ]
  },
  {
   "cell_type": "code",
   "execution_count": 352,
   "id": "f1043b40",
   "metadata": {
    "scrolled": true
   },
   "outputs": [
    {
     "name": "stdout",
     "output_type": "stream",
     "text": [
      "<class 'pandas.core.frame.DataFrame'>\n",
      "RangeIndex: 6999 entries, 0 to 6998\n",
      "Data columns (total 13 columns):\n",
      " #   Column              Non-Null Count  Dtype\n",
      "---  ------              --------------  -----\n",
      " 0   num_reactions       6999 non-null   int64\n",
      " 1   num_comments        6999 non-null   int64\n",
      " 2   num_shares          6999 non-null   int64\n",
      " 3   num_likes           6999 non-null   int64\n",
      " 4   num_loves           6999 non-null   int64\n",
      " 5   num_wows            6999 non-null   int64\n",
      " 6   num_hahas           6999 non-null   int64\n",
      " 7   num_sads            6999 non-null   int64\n",
      " 8   num_angrys          6999 non-null   int64\n",
      " 9   status_type_link    6999 non-null   uint8\n",
      " 10  status_type_photo   6999 non-null   uint8\n",
      " 11  status_type_status  6999 non-null   uint8\n",
      " 12  status_type_video   6999 non-null   uint8\n",
      "dtypes: int64(9), uint8(4)\n",
      "memory usage: 519.6 KB\n"
     ]
    }
   ],
   "source": [
    "df.info()"
   ]
  },
  {
   "cell_type": "markdown",
   "id": "dc7f8b8d",
   "metadata": {},
   "source": [
    "#### Una vez concatenadas las nuevas columnas dummies con el df original procedemos a ver el tipo de dato por columna mediante el metodo info() en donde podemos ver que todos son valores numericos enteros y unitarios para las dummies."
   ]
  },
  {
   "cell_type": "code",
   "execution_count": 353,
   "id": "8461cd55",
   "metadata": {
    "scrolled": true
   },
   "outputs": [
    {
     "name": "stdout",
     "output_type": "stream",
     "text": [
      "nombre de la variable num_reactions\n",
      "stat=0.508, p=0.000\n",
      "distribucion NO gaussiana \n",
      "\n",
      "nombre de la variable num_comments\n",
      "stat=0.262, p=0.000\n",
      "distribucion NO gaussiana \n",
      "\n",
      "nombre de la variable num_shares\n",
      "stat=0.338, p=0.000\n",
      "distribucion NO gaussiana \n",
      "\n",
      "nombre de la variable num_likes\n",
      "stat=0.487, p=0.000\n",
      "distribucion NO gaussiana \n",
      "\n",
      "nombre de la variable num_loves\n",
      "stat=0.353, p=0.000\n",
      "distribucion NO gaussiana \n",
      "\n",
      "nombre de la variable num_wows\n",
      "stat=0.106, p=0.000\n",
      "distribucion NO gaussiana \n",
      "\n",
      "nombre de la variable num_hahas\n",
      "stat=0.148, p=0.000\n",
      "distribucion NO gaussiana \n",
      "\n",
      "nombre de la variable num_sads\n",
      "stat=0.136, p=0.000\n",
      "distribucion NO gaussiana \n",
      "\n",
      "nombre de la variable num_angrys\n",
      "stat=0.141, p=0.000\n",
      "distribucion NO gaussiana \n",
      "\n",
      "nombre de la variable status_type_link\n",
      "stat=0.066, p=0.000\n",
      "distribucion NO gaussiana \n",
      "\n",
      "nombre de la variable status_type_photo\n",
      "stat=0.620, p=0.000\n",
      "distribucion NO gaussiana \n",
      "\n",
      "nombre de la variable status_type_status\n",
      "stat=0.228, p=0.000\n",
      "distribucion NO gaussiana \n",
      "\n",
      "nombre de la variable status_type_video\n",
      "stat=0.595, p=0.000\n",
      "distribucion NO gaussiana \n",
      "\n"
     ]
    },
    {
     "name": "stderr",
     "output_type": "stream",
     "text": [
      "/Users/Moraes/anaconda3/lib/python3.10/site-packages/scipy/stats/_morestats.py:1816: UserWarning: p-value may not be accurate for N > 5000.\n",
      "  warnings.warn(\"p-value may not be accurate for N > 5000.\")\n"
     ]
    }
   ],
   "source": [
    "from scipy.stats import shapiro\n",
    "\n",
    "for i in df:\n",
    "    stat, p = shapiro(df[i])\n",
    "    print('nombre de la variable', i)\n",
    "    print('stat=%.3f, p=%.3f' % (stat, p))\n",
    "    \n",
    "    if p > 0.05:\n",
    "        print('distribucion gaussiana', \"\\n\")\n",
    "    else:\n",
    "        print('distribucion NO gaussiana', \"\\n\")"
   ]
  },
  {
   "cell_type": "markdown",
   "id": "084cc214",
   "metadata": {},
   "source": [
    "#### Continuando con el preprocesado, utilizamos el test de Shapiro Wilk para saber si nuestras variables numericas siguen una distribución Gaussiana, lo que en este caso nos indica que todas nuestras variables no son gaussianas."
   ]
  },
  {
   "cell_type": "code",
   "execution_count": 354,
   "id": "76ee6a89",
   "metadata": {
    "scrolled": false
   },
   "outputs": [
    {
     "data": {
      "text/html": [
       "<div>\n",
       "<style scoped>\n",
       "    .dataframe tbody tr th:only-of-type {\n",
       "        vertical-align: middle;\n",
       "    }\n",
       "\n",
       "    .dataframe tbody tr th {\n",
       "        vertical-align: top;\n",
       "    }\n",
       "\n",
       "    .dataframe thead th {\n",
       "        text-align: right;\n",
       "    }\n",
       "</style>\n",
       "<table border=\"1\" class=\"dataframe\">\n",
       "  <thead>\n",
       "    <tr style=\"text-align: right;\">\n",
       "      <th></th>\n",
       "      <th>num_reactions</th>\n",
       "      <th>num_comments</th>\n",
       "      <th>num_shares</th>\n",
       "      <th>num_likes</th>\n",
       "      <th>num_loves</th>\n",
       "      <th>num_wows</th>\n",
       "      <th>num_hahas</th>\n",
       "      <th>num_sads</th>\n",
       "      <th>num_angrys</th>\n",
       "    </tr>\n",
       "  </thead>\n",
       "  <tbody>\n",
       "    <tr>\n",
       "      <th>0</th>\n",
       "      <td>2.366834</td>\n",
       "      <td>23.090909</td>\n",
       "      <td>65.50</td>\n",
       "      <td>2.272727</td>\n",
       "      <td>30.666667</td>\n",
       "      <td>3.0</td>\n",
       "      <td>1.0</td>\n",
       "      <td>1.0</td>\n",
       "      <td>0.0</td>\n",
       "    </tr>\n",
       "    <tr>\n",
       "      <th>1</th>\n",
       "      <td>0.462312</td>\n",
       "      <td>-0.181818</td>\n",
       "      <td>0.00</td>\n",
       "      <td>0.563636</td>\n",
       "      <td>0.000000</td>\n",
       "      <td>0.0</td>\n",
       "      <td>0.0</td>\n",
       "      <td>0.0</td>\n",
       "      <td>0.0</td>\n",
       "    </tr>\n",
       "    <tr>\n",
       "      <th>2</th>\n",
       "      <td>0.849246</td>\n",
       "      <td>10.545455</td>\n",
       "      <td>14.25</td>\n",
       "      <td>0.890909</td>\n",
       "      <td>7.000000</td>\n",
       "      <td>1.0</td>\n",
       "      <td>1.0</td>\n",
       "      <td>0.0</td>\n",
       "      <td>0.0</td>\n",
       "    </tr>\n",
       "    <tr>\n",
       "      <th>3</th>\n",
       "      <td>0.266332</td>\n",
       "      <td>-0.181818</td>\n",
       "      <td>0.00</td>\n",
       "      <td>0.327273</td>\n",
       "      <td>0.000000</td>\n",
       "      <td>0.0</td>\n",
       "      <td>0.0</td>\n",
       "      <td>0.0</td>\n",
       "      <td>0.0</td>\n",
       "    </tr>\n",
       "    <tr>\n",
       "      <th>4</th>\n",
       "      <td>0.778894</td>\n",
       "      <td>-0.181818</td>\n",
       "      <td>0.00</td>\n",
       "      <td>0.890909</td>\n",
       "      <td>3.000000</td>\n",
       "      <td>0.0</td>\n",
       "      <td>0.0</td>\n",
       "      <td>0.0</td>\n",
       "      <td>0.0</td>\n",
       "    </tr>\n",
       "    <tr>\n",
       "      <th>...</th>\n",
       "      <td>...</td>\n",
       "      <td>...</td>\n",
       "      <td>...</td>\n",
       "      <td>...</td>\n",
       "      <td>...</td>\n",
       "      <td>...</td>\n",
       "      <td>...</td>\n",
       "      <td>...</td>\n",
       "      <td>...</td>\n",
       "    </tr>\n",
       "    <tr>\n",
       "      <th>6994</th>\n",
       "      <td>0.155779</td>\n",
       "      <td>-0.181818</td>\n",
       "      <td>0.00</td>\n",
       "      <td>0.193939</td>\n",
       "      <td>0.000000</td>\n",
       "      <td>0.0</td>\n",
       "      <td>0.0</td>\n",
       "      <td>0.0</td>\n",
       "      <td>0.0</td>\n",
       "    </tr>\n",
       "    <tr>\n",
       "      <th>6995</th>\n",
       "      <td>-0.211055</td>\n",
       "      <td>-0.181818</td>\n",
       "      <td>0.00</td>\n",
       "      <td>-0.260606</td>\n",
       "      <td>0.333333</td>\n",
       "      <td>0.0</td>\n",
       "      <td>1.0</td>\n",
       "      <td>0.0</td>\n",
       "      <td>0.0</td>\n",
       "    </tr>\n",
       "    <tr>\n",
       "      <th>6996</th>\n",
       "      <td>-0.281407</td>\n",
       "      <td>-0.181818</td>\n",
       "      <td>0.00</td>\n",
       "      <td>-0.339394</td>\n",
       "      <td>0.333333</td>\n",
       "      <td>0.0</td>\n",
       "      <td>0.0</td>\n",
       "      <td>0.0</td>\n",
       "      <td>0.0</td>\n",
       "    </tr>\n",
       "    <tr>\n",
       "      <th>6997</th>\n",
       "      <td>1.472362</td>\n",
       "      <td>0.363636</td>\n",
       "      <td>5.50</td>\n",
       "      <td>1.769697</td>\n",
       "      <td>0.666667</td>\n",
       "      <td>0.0</td>\n",
       "      <td>0.0</td>\n",
       "      <td>0.0</td>\n",
       "      <td>0.0</td>\n",
       "    </tr>\n",
       "    <tr>\n",
       "      <th>6998</th>\n",
       "      <td>-0.206030</td>\n",
       "      <td>-0.181818</td>\n",
       "      <td>0.00</td>\n",
       "      <td>-0.242424</td>\n",
       "      <td>0.000000</td>\n",
       "      <td>0.0</td>\n",
       "      <td>0.0</td>\n",
       "      <td>0.0</td>\n",
       "      <td>0.0</td>\n",
       "    </tr>\n",
       "  </tbody>\n",
       "</table>\n",
       "<p>6999 rows × 9 columns</p>\n",
       "</div>"
      ],
      "text/plain": [
       "      num_reactions  num_comments  num_shares  num_likes  num_loves  num_wows  \\\n",
       "0          2.366834     23.090909       65.50   2.272727  30.666667       3.0   \n",
       "1          0.462312     -0.181818        0.00   0.563636   0.000000       0.0   \n",
       "2          0.849246     10.545455       14.25   0.890909   7.000000       1.0   \n",
       "3          0.266332     -0.181818        0.00   0.327273   0.000000       0.0   \n",
       "4          0.778894     -0.181818        0.00   0.890909   3.000000       0.0   \n",
       "...             ...           ...         ...        ...        ...       ...   \n",
       "6994       0.155779     -0.181818        0.00   0.193939   0.000000       0.0   \n",
       "6995      -0.211055     -0.181818        0.00  -0.260606   0.333333       0.0   \n",
       "6996      -0.281407     -0.181818        0.00  -0.339394   0.333333       0.0   \n",
       "6997       1.472362      0.363636        5.50   1.769697   0.666667       0.0   \n",
       "6998      -0.206030     -0.181818        0.00  -0.242424   0.000000       0.0   \n",
       "\n",
       "      num_hahas  num_sads  num_angrys  \n",
       "0           1.0       1.0         0.0  \n",
       "1           0.0       0.0         0.0  \n",
       "2           1.0       0.0         0.0  \n",
       "3           0.0       0.0         0.0  \n",
       "4           0.0       0.0         0.0  \n",
       "...         ...       ...         ...  \n",
       "6994        0.0       0.0         0.0  \n",
       "6995        1.0       0.0         0.0  \n",
       "6996        0.0       0.0         0.0  \n",
       "6997        0.0       0.0         0.0  \n",
       "6998        0.0       0.0         0.0  \n",
       "\n",
       "[6999 rows x 9 columns]"
      ]
     },
     "execution_count": 354,
     "metadata": {},
     "output_type": "execute_result"
    }
   ],
   "source": [
    "from sklearn.preprocessing import RobustScaler\n",
    "\n",
    "\n",
    "outliers_variables = ['num_reactions', 'num_comments', 'num_shares', 'num_likes', 'num_loves', 'num_wows', 'num_hahas', 'num_sads', 'num_angrys']\n",
    "dummy_variables = ['status_type_link', 'status_type_photo', 'status_type_status', 'status_type_video']\n",
    "\n",
    "scaling_robust = RobustScaler()\n",
    "\n",
    "df_robust = scaling_robust.fit_transform(df[outliers_variables])\n",
    "\n",
    "df_robust_scaler = pd.DataFrame(df_robust, columns=outliers_variables)\n",
    "\n",
    "df_robust_scaler\n"
   ]
  },
  {
   "cell_type": "code",
   "execution_count": 355,
   "id": "0b3b9788",
   "metadata": {
    "scrolled": true
   },
   "outputs": [
    {
     "name": "stdout",
     "output_type": "stream",
     "text": [
      "<class 'pandas.core.frame.DataFrame'>\n",
      "RangeIndex: 6999 entries, 0 to 6998\n",
      "Data columns (total 9 columns):\n",
      " #   Column         Non-Null Count  Dtype  \n",
      "---  ------         --------------  -----  \n",
      " 0   num_reactions  6999 non-null   float64\n",
      " 1   num_comments   6999 non-null   float64\n",
      " 2   num_shares     6999 non-null   float64\n",
      " 3   num_likes      6999 non-null   float64\n",
      " 4   num_loves      6999 non-null   float64\n",
      " 5   num_wows       6999 non-null   float64\n",
      " 6   num_hahas      6999 non-null   float64\n",
      " 7   num_sads       6999 non-null   float64\n",
      " 8   num_angrys     6999 non-null   float64\n",
      "dtypes: float64(9)\n",
      "memory usage: 492.2 KB\n"
     ]
    }
   ],
   "source": [
    "df_robust_scaler.info()"
   ]
  },
  {
   "cell_type": "markdown",
   "id": "177b84ca",
   "metadata": {},
   "source": [
    "#### Luego de aplicar el test de Shapiro-Wilk, procedemos a separar nuestro dataframe en dos tipos de variables, por un lado las numericas, las cuales son todas no gaussianas y tienen outliers para aplicarle RobustScaler y por el otro lado las variables Dummies a las cuales ya se les ha aplicado el proceso de estandarizacion.\n",
    "#### Una vez estandarizados ambos tipos de variables mediante info() vemos que el tipo de dato ha cambiado a tipo float."
   ]
  },
  {
   "cell_type": "code",
   "execution_count": 356,
   "id": "9e3365d1",
   "metadata": {
    "scrolled": true
   },
   "outputs": [
    {
     "data": {
      "text/html": [
       "<div>\n",
       "<style scoped>\n",
       "    .dataframe tbody tr th:only-of-type {\n",
       "        vertical-align: middle;\n",
       "    }\n",
       "\n",
       "    .dataframe tbody tr th {\n",
       "        vertical-align: top;\n",
       "    }\n",
       "\n",
       "    .dataframe thead th {\n",
       "        text-align: right;\n",
       "    }\n",
       "</style>\n",
       "<table border=\"1\" class=\"dataframe\">\n",
       "  <thead>\n",
       "    <tr style=\"text-align: right;\">\n",
       "      <th></th>\n",
       "      <th>num_reactions</th>\n",
       "      <th>num_comments</th>\n",
       "      <th>num_shares</th>\n",
       "      <th>num_likes</th>\n",
       "      <th>num_loves</th>\n",
       "      <th>num_wows</th>\n",
       "      <th>num_hahas</th>\n",
       "      <th>num_sads</th>\n",
       "      <th>num_angrys</th>\n",
       "      <th>status_type_link</th>\n",
       "      <th>status_type_photo</th>\n",
       "      <th>status_type_status</th>\n",
       "      <th>status_type_video</th>\n",
       "    </tr>\n",
       "  </thead>\n",
       "  <tbody>\n",
       "    <tr>\n",
       "      <th>0</th>\n",
       "      <td>2.366834</td>\n",
       "      <td>23.090909</td>\n",
       "      <td>65.50</td>\n",
       "      <td>2.272727</td>\n",
       "      <td>30.666667</td>\n",
       "      <td>3.0</td>\n",
       "      <td>1.0</td>\n",
       "      <td>1.0</td>\n",
       "      <td>0.0</td>\n",
       "      <td>0</td>\n",
       "      <td>0</td>\n",
       "      <td>0</td>\n",
       "      <td>1</td>\n",
       "    </tr>\n",
       "    <tr>\n",
       "      <th>1</th>\n",
       "      <td>0.462312</td>\n",
       "      <td>-0.181818</td>\n",
       "      <td>0.00</td>\n",
       "      <td>0.563636</td>\n",
       "      <td>0.000000</td>\n",
       "      <td>0.0</td>\n",
       "      <td>0.0</td>\n",
       "      <td>0.0</td>\n",
       "      <td>0.0</td>\n",
       "      <td>0</td>\n",
       "      <td>1</td>\n",
       "      <td>0</td>\n",
       "      <td>0</td>\n",
       "    </tr>\n",
       "    <tr>\n",
       "      <th>2</th>\n",
       "      <td>0.849246</td>\n",
       "      <td>10.545455</td>\n",
       "      <td>14.25</td>\n",
       "      <td>0.890909</td>\n",
       "      <td>7.000000</td>\n",
       "      <td>1.0</td>\n",
       "      <td>1.0</td>\n",
       "      <td>0.0</td>\n",
       "      <td>0.0</td>\n",
       "      <td>0</td>\n",
       "      <td>0</td>\n",
       "      <td>0</td>\n",
       "      <td>1</td>\n",
       "    </tr>\n",
       "    <tr>\n",
       "      <th>3</th>\n",
       "      <td>0.266332</td>\n",
       "      <td>-0.181818</td>\n",
       "      <td>0.00</td>\n",
       "      <td>0.327273</td>\n",
       "      <td>0.000000</td>\n",
       "      <td>0.0</td>\n",
       "      <td>0.0</td>\n",
       "      <td>0.0</td>\n",
       "      <td>0.0</td>\n",
       "      <td>0</td>\n",
       "      <td>1</td>\n",
       "      <td>0</td>\n",
       "      <td>0</td>\n",
       "    </tr>\n",
       "    <tr>\n",
       "      <th>4</th>\n",
       "      <td>0.778894</td>\n",
       "      <td>-0.181818</td>\n",
       "      <td>0.00</td>\n",
       "      <td>0.890909</td>\n",
       "      <td>3.000000</td>\n",
       "      <td>0.0</td>\n",
       "      <td>0.0</td>\n",
       "      <td>0.0</td>\n",
       "      <td>0.0</td>\n",
       "      <td>0</td>\n",
       "      <td>1</td>\n",
       "      <td>0</td>\n",
       "      <td>0</td>\n",
       "    </tr>\n",
       "    <tr>\n",
       "      <th>...</th>\n",
       "      <td>...</td>\n",
       "      <td>...</td>\n",
       "      <td>...</td>\n",
       "      <td>...</td>\n",
       "      <td>...</td>\n",
       "      <td>...</td>\n",
       "      <td>...</td>\n",
       "      <td>...</td>\n",
       "      <td>...</td>\n",
       "      <td>...</td>\n",
       "      <td>...</td>\n",
       "      <td>...</td>\n",
       "      <td>...</td>\n",
       "    </tr>\n",
       "    <tr>\n",
       "      <th>6994</th>\n",
       "      <td>0.155779</td>\n",
       "      <td>-0.181818</td>\n",
       "      <td>0.00</td>\n",
       "      <td>0.193939</td>\n",
       "      <td>0.000000</td>\n",
       "      <td>0.0</td>\n",
       "      <td>0.0</td>\n",
       "      <td>0.0</td>\n",
       "      <td>0.0</td>\n",
       "      <td>0</td>\n",
       "      <td>1</td>\n",
       "      <td>0</td>\n",
       "      <td>0</td>\n",
       "    </tr>\n",
       "    <tr>\n",
       "      <th>6995</th>\n",
       "      <td>-0.211055</td>\n",
       "      <td>-0.181818</td>\n",
       "      <td>0.00</td>\n",
       "      <td>-0.260606</td>\n",
       "      <td>0.333333</td>\n",
       "      <td>0.0</td>\n",
       "      <td>1.0</td>\n",
       "      <td>0.0</td>\n",
       "      <td>0.0</td>\n",
       "      <td>0</td>\n",
       "      <td>1</td>\n",
       "      <td>0</td>\n",
       "      <td>0</td>\n",
       "    </tr>\n",
       "    <tr>\n",
       "      <th>6996</th>\n",
       "      <td>-0.281407</td>\n",
       "      <td>-0.181818</td>\n",
       "      <td>0.00</td>\n",
       "      <td>-0.339394</td>\n",
       "      <td>0.333333</td>\n",
       "      <td>0.0</td>\n",
       "      <td>0.0</td>\n",
       "      <td>0.0</td>\n",
       "      <td>0.0</td>\n",
       "      <td>0</td>\n",
       "      <td>1</td>\n",
       "      <td>0</td>\n",
       "      <td>0</td>\n",
       "    </tr>\n",
       "    <tr>\n",
       "      <th>6997</th>\n",
       "      <td>1.472362</td>\n",
       "      <td>0.363636</td>\n",
       "      <td>5.50</td>\n",
       "      <td>1.769697</td>\n",
       "      <td>0.666667</td>\n",
       "      <td>0.0</td>\n",
       "      <td>0.0</td>\n",
       "      <td>0.0</td>\n",
       "      <td>0.0</td>\n",
       "      <td>0</td>\n",
       "      <td>1</td>\n",
       "      <td>0</td>\n",
       "      <td>0</td>\n",
       "    </tr>\n",
       "    <tr>\n",
       "      <th>6998</th>\n",
       "      <td>-0.206030</td>\n",
       "      <td>-0.181818</td>\n",
       "      <td>0.00</td>\n",
       "      <td>-0.242424</td>\n",
       "      <td>0.000000</td>\n",
       "      <td>0.0</td>\n",
       "      <td>0.0</td>\n",
       "      <td>0.0</td>\n",
       "      <td>0.0</td>\n",
       "      <td>0</td>\n",
       "      <td>1</td>\n",
       "      <td>0</td>\n",
       "      <td>0</td>\n",
       "    </tr>\n",
       "  </tbody>\n",
       "</table>\n",
       "<p>6999 rows × 13 columns</p>\n",
       "</div>"
      ],
      "text/plain": [
       "      num_reactions  num_comments  num_shares  num_likes  num_loves  num_wows  \\\n",
       "0          2.366834     23.090909       65.50   2.272727  30.666667       3.0   \n",
       "1          0.462312     -0.181818        0.00   0.563636   0.000000       0.0   \n",
       "2          0.849246     10.545455       14.25   0.890909   7.000000       1.0   \n",
       "3          0.266332     -0.181818        0.00   0.327273   0.000000       0.0   \n",
       "4          0.778894     -0.181818        0.00   0.890909   3.000000       0.0   \n",
       "...             ...           ...         ...        ...        ...       ...   \n",
       "6994       0.155779     -0.181818        0.00   0.193939   0.000000       0.0   \n",
       "6995      -0.211055     -0.181818        0.00  -0.260606   0.333333       0.0   \n",
       "6996      -0.281407     -0.181818        0.00  -0.339394   0.333333       0.0   \n",
       "6997       1.472362      0.363636        5.50   1.769697   0.666667       0.0   \n",
       "6998      -0.206030     -0.181818        0.00  -0.242424   0.000000       0.0   \n",
       "\n",
       "      num_hahas  num_sads  num_angrys  status_type_link  status_type_photo  \\\n",
       "0           1.0       1.0         0.0                 0                  0   \n",
       "1           0.0       0.0         0.0                 0                  1   \n",
       "2           1.0       0.0         0.0                 0                  0   \n",
       "3           0.0       0.0         0.0                 0                  1   \n",
       "4           0.0       0.0         0.0                 0                  1   \n",
       "...         ...       ...         ...               ...                ...   \n",
       "6994        0.0       0.0         0.0                 0                  1   \n",
       "6995        1.0       0.0         0.0                 0                  1   \n",
       "6996        0.0       0.0         0.0                 0                  1   \n",
       "6997        0.0       0.0         0.0                 0                  1   \n",
       "6998        0.0       0.0         0.0                 0                  1   \n",
       "\n",
       "      status_type_status  status_type_video  \n",
       "0                      0                  1  \n",
       "1                      0                  0  \n",
       "2                      0                  1  \n",
       "3                      0                  0  \n",
       "4                      0                  0  \n",
       "...                  ...                ...  \n",
       "6994                   0                  0  \n",
       "6995                   0                  0  \n",
       "6996                   0                  0  \n",
       "6997                   0                  0  \n",
       "6998                   0                  0  \n",
       "\n",
       "[6999 rows x 13 columns]"
      ]
     },
     "execution_count": 356,
     "metadata": {},
     "output_type": "execute_result"
    }
   ],
   "source": [
    "df_final = pd.concat([df_robust_scaler, df[dummy_variables]], axis=1)\n",
    "df_final"
   ]
  },
  {
   "cell_type": "markdown",
   "id": "3f4e1afd",
   "metadata": {},
   "source": [
    "#### Por ultimo en cuanto al preprocesado de los datos concatenamos ambos el Data Frame resultante del escalado robusto y las variables dummies."
   ]
  },
  {
   "cell_type": "markdown",
   "id": "3c6bc577",
   "metadata": {},
   "source": [
    "## - Exercici 1\n",
    "### Descarrega el dataset adjunt, de registres de publicacions a Facebook sobre Tailàndia, i classifica els diferents registres utilitzant l'algorisme de K-means."
   ]
  },
  {
   "cell_type": "markdown",
   "id": "90112fa2",
   "metadata": {},
   "source": [
    "# PCA"
   ]
  },
  {
   "cell_type": "markdown",
   "id": "1966ea1f",
   "metadata": {},
   "source": [
    "#### El objetivo del Analisis de Componentes Principales es reducir la dimensionalidad de nuestro Data Frame, en otras palabras reducir la cantidad de columnas o variables que podemos tener. El PCA lo que busca es encontrar las correlaciones entre variables mas optimas y asi reducir la dimensionaldiad creando nuevas columnas. Es importante aplicar este proceso solo a las columnas numericas, en este caso trabajaremos con Data Frame generado anteriormente para el RobustScaler apartando de esta manera todas las variables Dummies."
   ]
  },
  {
   "cell_type": "code",
   "execution_count": 357,
   "id": "28864807",
   "metadata": {},
   "outputs": [
    {
     "data": {
      "text/plain": [
       "9"
      ]
     },
     "execution_count": 357,
     "metadata": {},
     "output_type": "execute_result"
    }
   ],
   "source": [
    "from sklearn.decomposition import PCA\n",
    "\n",
    "# Creamos el PCA con el numero de componentes deseado.\n",
    "PruebaPCA= PCA()\n",
    "\n",
    "# Ajustar el PCA a tus datos escalados\n",
    "df_pca = PruebaPCA.fit(df_robust_scaler)\n",
    "\n",
    "PruebaPCA.n_components_"
   ]
  },
  {
   "cell_type": "markdown",
   "id": "a04f1436",
   "metadata": {},
   "source": [
    "#### Primero aplicamos un primer modelo de prueba PCA a nuestro data frame de variables numericas, el cual nos arroja correctamente la dimensionalidad de nuestro DF (9 componentes)"
   ]
  },
  {
   "cell_type": "code",
   "execution_count": 358,
   "id": "08dd369c",
   "metadata": {
    "scrolled": true
   },
   "outputs": [
    {
     "data": {
      "text/plain": [
       "array([7.84337406e-01, 1.70025075e-01, 2.43677715e-02, 1.30587924e-02,\n",
       "       3.73572126e-03, 3.67530881e-03, 6.68379165e-04, 1.31545205e-04,\n",
       "       3.43318848e-11])"
      ]
     },
     "execution_count": 358,
     "metadata": {},
     "output_type": "execute_result"
    }
   ],
   "source": [
    "PruebaPCA.explained_variance_ratio_"
   ]
  },
  {
   "cell_type": "markdown",
   "id": "1b3b1123",
   "metadata": {},
   "source": [
    "#### Luego aplicamos el metodo que explica el ratio de varianza el cual nos servira para graficar nuestra varianaza acumulada."
   ]
  },
  {
   "cell_type": "code",
   "execution_count": 359,
   "id": "609a4d0f",
   "metadata": {},
   "outputs": [
    {
     "data": {
      "text/plain": [
       "Text(0.5, 1.0, 'Varianza acumulada')"
      ]
     },
     "execution_count": 359,
     "metadata": {},
     "output_type": "execute_result"
    },
    {
     "data": {
      "image/png": "[encoded data removed]",
      "text/plain": [
       "<Figure size 1200x600 with 1 Axes>"
      ]
     },
     "metadata": {},
     "output_type": "display_data"
    }
   ],
   "source": [
    "plt.figure(figsize = (12, 6))\n",
    "\n",
    "plt.plot(np.cumsum(PruebaPCA.explained_variance_ratio_), marker = \"o\", markersize=5, markeredgecolor='red')\n",
    "\n",
    "plt.xlabel('Numero de componentes')\n",
    "plt.ylabel('Varianza acumulada explicada %')\n",
    "plt.title(\"Varianza acumulada\")"
   ]
  },
  {
   "cell_type": "markdown",
   "id": "f7a175e1",
   "metadata": {},
   "source": [
    "#### Tras realizar un plot de nuestra varianza acumulada, podemos apreciar en el eje Y que nuestro modelo es capas de explicar al rededor de un 95% de esa varianza, dato que utilizaremos para encontrar un nuevo numero optimo de componentes."
   ]
  },
  {
   "cell_type": "code",
   "execution_count": 360,
   "id": "8fe09a43",
   "metadata": {},
   "outputs": [
    {
     "data": {
      "text/plain": [
       "2"
      ]
     },
     "execution_count": 360,
     "metadata": {},
     "output_type": "execute_result"
    }
   ],
   "source": [
    "new_PCA = PCA(.95)\n",
    "new_PCA = new_PCA.fit(df_robust_scaler)\n",
    "\n",
    "new_PCA.n_components_ "
   ]
  },
  {
   "cell_type": "markdown",
   "id": "0dc544f6",
   "metadata": {},
   "source": [
    "#### Efectivamente, luego de pasar como paramentro dentro del metodo PCA un 95%, el numero de componentes se reduce de 9 a 2."
   ]
  },
  {
   "cell_type": "code",
   "execution_count": 361,
   "id": "6e8ab0a2",
   "metadata": {
    "scrolled": true
   },
   "outputs": [
    {
     "data": {
      "text/html": [
       "<div>\n",
       "<style scoped>\n",
       "    .dataframe tbody tr th:only-of-type {\n",
       "        vertical-align: middle;\n",
       "    }\n",
       "\n",
       "    .dataframe tbody tr th {\n",
       "        vertical-align: top;\n",
       "    }\n",
       "\n",
       "    .dataframe thead th {\n",
       "        text-align: right;\n",
       "    }\n",
       "</style>\n",
       "<table border=\"1\" class=\"dataframe\">\n",
       "  <thead>\n",
       "    <tr style=\"text-align: right;\">\n",
       "      <th></th>\n",
       "      <th>PCA1</th>\n",
       "      <th>PCA2</th>\n",
       "    </tr>\n",
       "  </thead>\n",
       "  <tbody>\n",
       "    <tr>\n",
       "      <th>0</th>\n",
       "      <td>48.141927</td>\n",
       "      <td>39.279885</td>\n",
       "    </tr>\n",
       "    <tr>\n",
       "      <th>1</th>\n",
       "      <td>-14.873807</td>\n",
       "      <td>-2.241151</td>\n",
       "    </tr>\n",
       "    <tr>\n",
       "      <th>2</th>\n",
       "      <td>3.371249</td>\n",
       "      <td>3.438150</td>\n",
       "    </tr>\n",
       "    <tr>\n",
       "      <th>3</th>\n",
       "      <td>-14.877890</td>\n",
       "      <td>-2.247779</td>\n",
       "    </tr>\n",
       "    <tr>\n",
       "      <th>4</th>\n",
       "      <td>-14.268106</td>\n",
       "      <td>-1.394616</td>\n",
       "    </tr>\n",
       "    <tr>\n",
       "      <th>...</th>\n",
       "      <td>...</td>\n",
       "      <td>...</td>\n",
       "    </tr>\n",
       "    <tr>\n",
       "      <th>6994</th>\n",
       "      <td>-14.880194</td>\n",
       "      <td>-2.251517</td>\n",
       "    </tr>\n",
       "    <tr>\n",
       "      <th>6995</th>\n",
       "      <td>-14.788323</td>\n",
       "      <td>-2.142925</td>\n",
       "    </tr>\n",
       "    <tr>\n",
       "      <th>6996</th>\n",
       "      <td>-14.822736</td>\n",
       "      <td>-2.173432</td>\n",
       "    </tr>\n",
       "    <tr>\n",
       "      <th>6997</th>\n",
       "      <td>-11.064314</td>\n",
       "      <td>1.577548</td>\n",
       "    </tr>\n",
       "    <tr>\n",
       "      <th>6998</th>\n",
       "      <td>-14.887733</td>\n",
       "      <td>-2.263753</td>\n",
       "    </tr>\n",
       "  </tbody>\n",
       "</table>\n",
       "<p>6999 rows × 2 columns</p>\n",
       "</div>"
      ],
      "text/plain": [
       "           PCA1       PCA2\n",
       "0     48.141927  39.279885\n",
       "1    -14.873807  -2.241151\n",
       "2      3.371249   3.438150\n",
       "3    -14.877890  -2.247779\n",
       "4    -14.268106  -1.394616\n",
       "...         ...        ...\n",
       "6994 -14.880194  -2.251517\n",
       "6995 -14.788323  -2.142925\n",
       "6996 -14.822736  -2.173432\n",
       "6997 -11.064314   1.577548\n",
       "6998 -14.887733  -2.263753\n",
       "\n",
       "[6999 rows x 2 columns]"
      ]
     },
     "execution_count": 361,
     "metadata": {},
     "output_type": "execute_result"
    }
   ],
   "source": [
    "PCA_2 = PCA(n_components = 2)\n",
    "\n",
    "\n",
    "df_PCA = PCA_2.fit(df_robust_scaler)\n",
    "\n",
    "df_PCA = pd.DataFrame(df_PCA.transform(df_robust_scaler), columns=[\"PCA1\", \"PCA2\"], index=df.index)\n",
    "\n",
    "df_PCA"
   ]
  },
  {
   "cell_type": "markdown",
   "id": "6459691e",
   "metadata": {},
   "source": [
    "#### De esta manera se ha reducido nuestro Df estandarizado con RobustScaler de 9 componentes, a solo 2 componentes principales."
   ]
  },
  {
   "cell_type": "markdown",
   "id": "ee57ab5b",
   "metadata": {},
   "source": [
    "## K-Means"
   ]
  },
  {
   "cell_type": "markdown",
   "id": "86e6fcd8",
   "metadata": {},
   "source": [
    "#### El objetivo del algoritmo K means es agrupar los datos segun su similitud generando asi diferentes clusters o grupos.\n",
    "\n",
    "#### Para comenzar es necesario asignar al algoritmo cuantos clusters queremos formar, como aun no sabemos el numero exacto, se deben realizar pruebas para determinar el numero de clusters optimos en los cuales vamos a dividir nuestros datos."
   ]
  },
  {
   "cell_type": "code",
   "execution_count": 362,
   "id": "c69a2ac8",
   "metadata": {
    "scrolled": false
   },
   "outputs": [
    {
     "name": "stderr",
     "output_type": "stream",
     "text": [
      "/Users/Moraes/anaconda3/lib/python3.10/site-packages/sklearn/cluster/_kmeans.py:870: FutureWarning: The default value of `n_init` will change from 10 to 'auto' in 1.4. Set the value of `n_init` explicitly to suppress the warning\n",
      "  warnings.warn(\n",
      "/Users/Moraes/anaconda3/lib/python3.10/site-packages/sklearn/cluster/_kmeans.py:870: FutureWarning: The default value of `n_init` will change from 10 to 'auto' in 1.4. Set the value of `n_init` explicitly to suppress the warning\n",
      "  warnings.warn(\n",
      "/Users/Moraes/anaconda3/lib/python3.10/site-packages/sklearn/cluster/_kmeans.py:870: FutureWarning: The default value of `n_init` will change from 10 to 'auto' in 1.4. Set the value of `n_init` explicitly to suppress the warning\n",
      "  warnings.warn(\n",
      "/Users/Moraes/anaconda3/lib/python3.10/site-packages/sklearn/cluster/_kmeans.py:870: FutureWarning: The default value of `n_init` will change from 10 to 'auto' in 1.4. Set the value of `n_init` explicitly to suppress the warning\n",
      "  warnings.warn(\n",
      "/Users/Moraes/anaconda3/lib/python3.10/site-packages/sklearn/cluster/_kmeans.py:870: FutureWarning: The default value of `n_init` will change from 10 to 'auto' in 1.4. Set the value of `n_init` explicitly to suppress the warning\n",
      "  warnings.warn(\n",
      "/Users/Moraes/anaconda3/lib/python3.10/site-packages/sklearn/cluster/_kmeans.py:870: FutureWarning: The default value of `n_init` will change from 10 to 'auto' in 1.4. Set the value of `n_init` explicitly to suppress the warning\n",
      "  warnings.warn(\n",
      "/Users/Moraes/anaconda3/lib/python3.10/site-packages/sklearn/cluster/_kmeans.py:870: FutureWarning: The default value of `n_init` will change from 10 to 'auto' in 1.4. Set the value of `n_init` explicitly to suppress the warning\n",
      "  warnings.warn(\n",
      "/Users/Moraes/anaconda3/lib/python3.10/site-packages/sklearn/cluster/_kmeans.py:870: FutureWarning: The default value of `n_init` will change from 10 to 'auto' in 1.4. Set the value of `n_init` explicitly to suppress the warning\n",
      "  warnings.warn(\n",
      "/Users/Moraes/anaconda3/lib/python3.10/site-packages/sklearn/cluster/_kmeans.py:870: FutureWarning: The default value of `n_init` will change from 10 to 'auto' in 1.4. Set the value of `n_init` explicitly to suppress the warning\n",
      "  warnings.warn(\n",
      "/Users/Moraes/anaconda3/lib/python3.10/site-packages/sklearn/cluster/_kmeans.py:870: FutureWarning: The default value of `n_init` will change from 10 to 'auto' in 1.4. Set the value of `n_init` explicitly to suppress the warning\n",
      "  warnings.warn(\n"
     ]
    },
    {
     "data": {
      "image/png": "[encoded data removed]",
      "text/plain": [
       "<Figure size 800x600 with 1 Axes>"
      ]
     },
     "metadata": {},
     "output_type": "display_data"
    }
   ],
   "source": [
    "from sklearn.cluster import KMeans\n",
    "\n",
    "wcss = []  \n",
    "\n",
    "# Realizamos un bucle de un rango de 1 a 10 para determinar el numero de clusters\n",
    "\n",
    "for k in range(1, 11):\n",
    "    kmeans = KMeans(n_clusters=k, random_state=42)   # pasamos el parametro k para encontar el numero de clusters\n",
    "    kmeans.fit(df_PCA) # Entrenamos el modelo con el metodo fit pasando como parametro nuestro Df con su PCA\n",
    "    wcss.append(kmeans.inertia_) # Append agrega a la lista wcss los valores correspondientes a k asigananle el resultado de inercia.\n",
    "\n",
    "plt.figure(figsize = (8,6))    \n",
    "plt.plot(range(1, 11), wcss, marker='o')\n",
    "plt.title('Método del Codo')\n",
    "plt.xlabel('Número de Clústeres (K)')\n",
    "plt.ylabel('WCSS')\n",
    "plt.show()    "
   ]
  },
  {
   "cell_type": "markdown",
   "id": "33f385d0",
   "metadata": {},
   "source": [
    "#### Para encontrar el numero optimo de clusters aplicamos el metodo del codo (elbow method), en este metodo se calcula la incercia, la cual mide cuánto se dispersan los puntos dentro de cada cluster. El objetivo principal de K-Means es minimizar esta inercia. Luego de visualizar el grafico podemos ver que la inercia comienza a deternerse entre 2 y 3 en el eje X asignado al numero de clusters que estamos buscando encontrar. Para localizar el numero de clusters de forma mas certera aplicaremos el metodo KneeLocator el cual nos indicara el numero de K exacto."
   ]
  },
  {
   "cell_type": "code",
   "execution_count": 363,
   "id": "72e8291f",
   "metadata": {},
   "outputs": [
    {
     "name": "stdout",
     "output_type": "stream",
     "text": [
      "Mejor numero de clusters: 3\n"
     ]
    }
   ],
   "source": [
    "from kneed import KneeLocator\n",
    "\n",
    "knee = KneeLocator(range(1, 11), wcss, curve='convex', direction='decreasing')\n",
    "\n",
    "print(\"Mejor numero de clusters:\", knee.elbow)"
   ]
  },
  {
   "cell_type": "code",
   "execution_count": 364,
   "id": "1a66d2a5",
   "metadata": {
    "scrolled": true
   },
   "outputs": [
    {
     "name": "stderr",
     "output_type": "stream",
     "text": [
      "/Users/Moraes/anaconda3/lib/python3.10/site-packages/sklearn/cluster/_kmeans.py:870: FutureWarning: The default value of `n_init` will change from 10 to 'auto' in 1.4. Set the value of `n_init` explicitly to suppress the warning\n",
      "  warnings.warn(\n"
     ]
    }
   ],
   "source": [
    "from sklearn.cluster import KMeans\n",
    "\n",
    "kmeans = KMeans(n_clusters=3, random_state=42)\n",
    "\n",
    "kmeans = kmeans.fit(df_PCA)"
   ]
  },
  {
   "cell_type": "markdown",
   "id": "bcfd441a",
   "metadata": {},
   "source": [
    "#### Una vez localizado el numero optimo de clusters lo pasamos como paramentro dentro del metodo Kmeans y lo ajustamos a nuestro modelo el cual contiene nuestro Df con su PCA."
   ]
  },
  {
   "cell_type": "code",
   "execution_count": 365,
   "id": "afe7f902",
   "metadata": {},
   "outputs": [
    {
     "data": {
      "text/plain": [
       "array([1, 0, 0, ..., 0, 0, 0], dtype=int32)"
      ]
     },
     "execution_count": 365,
     "metadata": {},
     "output_type": "execute_result"
    }
   ],
   "source": [
    "cluster_labels = kmeans.predict(df_PCA)\n",
    "cluster_labels"
   ]
  },
  {
   "cell_type": "markdown",
   "id": "0f20f4f6",
   "metadata": {},
   "source": [
    "#### Mediante el metodo predict() predecimos a qué clúster pertenece cada punto de datos dentro de nuestro dataframe asiganandolo a su centroide correspondiente."
   ]
  },
  {
   "cell_type": "code",
   "execution_count": 366,
   "id": "0d6372cd",
   "metadata": {
    "scrolled": true
   },
   "outputs": [
    {
     "data": {
      "text/plain": [
       "array([[-11.09640558,  -1.20190561],\n",
       "       [100.1754256 ,  25.01590237],\n",
       "       [335.02713119, -56.96723379]])"
      ]
     },
     "execution_count": 366,
     "metadata": {},
     "output_type": "execute_result"
    }
   ],
   "source": [
    "centroids = kmeans.cluster_centers_\n",
    "centroids"
   ]
  },
  {
   "cell_type": "markdown",
   "id": "3ab31d6d",
   "metadata": {},
   "source": [
    "#### Por ultimo una vez nuestro modelo haya sido ajustado y se le haya asignado las etiquetas a cada dato dentro de nuestro data frame, mediante el metodo cluster_centers_ obtenemos las cordenadas exactas donde se encontraran los centroides de nuestro modelo."
   ]
  },
  {
   "cell_type": "code",
   "execution_count": 382,
   "id": "daad9683",
   "metadata": {},
   "outputs": [
    {
     "data": {
      "text/html": [
       "<div>\n",
       "<style scoped>\n",
       "    .dataframe tbody tr th:only-of-type {\n",
       "        vertical-align: middle;\n",
       "    }\n",
       "\n",
       "    .dataframe tbody tr th {\n",
       "        vertical-align: top;\n",
       "    }\n",
       "\n",
       "    .dataframe thead th {\n",
       "        text-align: right;\n",
       "    }\n",
       "</style>\n",
       "<table border=\"1\" class=\"dataframe\">\n",
       "  <thead>\n",
       "    <tr style=\"text-align: right;\">\n",
       "      <th></th>\n",
       "      <th>PCA1</th>\n",
       "      <th>PCA2</th>\n",
       "      <th>cluster_hward</th>\n",
       "      <th>cluster_haverage</th>\n",
       "      <th>cluster_labels</th>\n",
       "    </tr>\n",
       "  </thead>\n",
       "  <tbody>\n",
       "    <tr>\n",
       "      <th>0</th>\n",
       "      <td>48.141927</td>\n",
       "      <td>39.279885</td>\n",
       "      <td>1</td>\n",
       "      <td>0</td>\n",
       "      <td>1</td>\n",
       "    </tr>\n",
       "    <tr>\n",
       "      <th>1</th>\n",
       "      <td>-14.873807</td>\n",
       "      <td>-2.241151</td>\n",
       "      <td>1</td>\n",
       "      <td>0</td>\n",
       "      <td>0</td>\n",
       "    </tr>\n",
       "    <tr>\n",
       "      <th>2</th>\n",
       "      <td>3.371249</td>\n",
       "      <td>3.438150</td>\n",
       "      <td>1</td>\n",
       "      <td>0</td>\n",
       "      <td>0</td>\n",
       "    </tr>\n",
       "    <tr>\n",
       "      <th>3</th>\n",
       "      <td>-14.877890</td>\n",
       "      <td>-2.247779</td>\n",
       "      <td>1</td>\n",
       "      <td>0</td>\n",
       "      <td>0</td>\n",
       "    </tr>\n",
       "    <tr>\n",
       "      <th>4</th>\n",
       "      <td>-14.268106</td>\n",
       "      <td>-1.394616</td>\n",
       "      <td>1</td>\n",
       "      <td>0</td>\n",
       "      <td>0</td>\n",
       "    </tr>\n",
       "    <tr>\n",
       "      <th>...</th>\n",
       "      <td>...</td>\n",
       "      <td>...</td>\n",
       "      <td>...</td>\n",
       "      <td>...</td>\n",
       "      <td>...</td>\n",
       "    </tr>\n",
       "    <tr>\n",
       "      <th>6994</th>\n",
       "      <td>-14.880194</td>\n",
       "      <td>-2.251517</td>\n",
       "      <td>1</td>\n",
       "      <td>0</td>\n",
       "      <td>0</td>\n",
       "    </tr>\n",
       "    <tr>\n",
       "      <th>6995</th>\n",
       "      <td>-14.788323</td>\n",
       "      <td>-2.142925</td>\n",
       "      <td>1</td>\n",
       "      <td>0</td>\n",
       "      <td>0</td>\n",
       "    </tr>\n",
       "    <tr>\n",
       "      <th>6996</th>\n",
       "      <td>-14.822736</td>\n",
       "      <td>-2.173432</td>\n",
       "      <td>1</td>\n",
       "      <td>0</td>\n",
       "      <td>0</td>\n",
       "    </tr>\n",
       "    <tr>\n",
       "      <th>6997</th>\n",
       "      <td>-11.064314</td>\n",
       "      <td>1.577548</td>\n",
       "      <td>1</td>\n",
       "      <td>0</td>\n",
       "      <td>0</td>\n",
       "    </tr>\n",
       "    <tr>\n",
       "      <th>6998</th>\n",
       "      <td>-14.887733</td>\n",
       "      <td>-2.263753</td>\n",
       "      <td>1</td>\n",
       "      <td>0</td>\n",
       "      <td>0</td>\n",
       "    </tr>\n",
       "  </tbody>\n",
       "</table>\n",
       "<p>6999 rows × 5 columns</p>\n",
       "</div>"
      ],
      "text/plain": [
       "           PCA1       PCA2  cluster_hward  cluster_haverage  cluster_labels\n",
       "0     48.141927  39.279885              1                 0               1\n",
       "1    -14.873807  -2.241151              1                 0               0\n",
       "2      3.371249   3.438150              1                 0               0\n",
       "3    -14.877890  -2.247779              1                 0               0\n",
       "4    -14.268106  -1.394616              1                 0               0\n",
       "...         ...        ...            ...               ...             ...\n",
       "6994 -14.880194  -2.251517              1                 0               0\n",
       "6995 -14.788323  -2.142925              1                 0               0\n",
       "6996 -14.822736  -2.173432              1                 0               0\n",
       "6997 -11.064314   1.577548              1                 0               0\n",
       "6998 -14.887733  -2.263753              1                 0               0\n",
       "\n",
       "[6999 rows x 5 columns]"
      ]
     },
     "execution_count": 382,
     "metadata": {},
     "output_type": "execute_result"
    }
   ],
   "source": [
    "df_final['cluster_labels'] = cluster_labels\n",
    "df_PCA['cluster_labels'] = cluster_labels\n",
    "df_PCA"
   ]
  },
  {
   "cell_type": "code",
   "execution_count": 383,
   "id": "5aaca3ba",
   "metadata": {
    "scrolled": true
   },
   "outputs": [
    {
     "data": {
      "text/plain": [
       "0    6452\n",
       "1     475\n",
       "2      72\n",
       "Name: cluster_labels, dtype: int64"
      ]
     },
     "execution_count": 383,
     "metadata": {},
     "output_type": "execute_result"
    }
   ],
   "source": [
    "df_PCA['cluster_labels'].value_counts()"
   ]
  },
  {
   "cell_type": "markdown",
   "id": "9e9e0d88",
   "metadata": {},
   "source": [
    "#### Luego de un conteo para los valores correspondientes a cada cluster vemos que para la primer etiqueta numero 0 hay 6452 registros de datos, para la etiqueta numero 1 hay 475 registros de datos y para la etiqueta numero 2 hay 72."
   ]
  },
  {
   "cell_type": "code",
   "execution_count": 384,
   "id": "c6446e75",
   "metadata": {
    "scrolled": false
   },
   "outputs": [
    {
     "data": {
      "image/png": "[encoded data removed]",
      "text/plain": [
       "<Figure size 640x480 with 1 Axes>"
      ]
     },
     "metadata": {},
     "output_type": "display_data"
    }
   ],
   "source": [
    "from matplotlib.colors import ListedColormap\n",
    "\n",
    "cmap_colors = ListedColormap(['green', 'blue', 'red'])\n",
    "\n",
    "plt.scatter(df_PCA['PCA1'], df_PCA['PCA2'], c=df_PCA['cluster_labels'], cmap=cmap_colors)\n",
    "plt.scatter(centroids[:, 0], centroids[:, 1], marker='x', s=200, linewidths=3, color='y')\n",
    "plt.xlabel('PCA1')\n",
    "plt.ylabel('PCA2')\n",
    "plt.title('Cluster')\n",
    "plt.show()"
   ]
  },
  {
   "cell_type": "markdown",
   "id": "09c0268e",
   "metadata": {},
   "source": [
    "#### Por ultimo graficamos mediante un scatter plot en donde podemos ver como se agrupan los datos y se distribuyen dentro de la grafica, los colore representan cada uno de los clusters y las X dentro del grafico representan los centroides."
   ]
  },
  {
   "cell_type": "markdown",
   "id": "03919cd5",
   "metadata": {},
   "source": [
    "## - Exercici 2\n",
    "### Classifica els diferents registres utilitzant l'algorisme de clustering jeràrquic."
   ]
  },
  {
   "cell_type": "code",
   "execution_count": 385,
   "id": "98494c11",
   "metadata": {},
   "outputs": [],
   "source": [
    "from sklearn.cluster import AgglomerativeClustering\n",
    "import sklearn.metrics as sm\n",
    "import scipy\n",
    "from scipy.cluster.hierarchy import linkage\n",
    "from scipy.cluster.hierarchy import dendrogram\n",
    "from scipy.cluster.hierarchy import fcluster\n",
    "from scipy.cluster.hierarchy import cophenet\n",
    "from scipy.spatial.distance import pdist"
   ]
  },
  {
   "cell_type": "code",
   "execution_count": 386,
   "id": "5934d364",
   "metadata": {},
   "outputs": [
    {
     "data": {
      "image/png": "[encoded data removed]",
      "text/plain": [
       "<Figure size 1000x500 with 1 Axes>"
      ]
     },
     "metadata": {},
     "output_type": "display_data"
    },
    {
     "name": "stdout",
     "output_type": "stream",
     "text": [
      "Numero de clusters: 2\n"
     ]
    }
   ],
   "source": [
    "Z = linkage(df_PCA.values, method='ward') # Calculo de la matriz de vinculo (linkage) con el metodo ward\n",
    "\n",
    "p = 9  # Nombre de merged clusters a mostrar\n",
    "\n",
    "plt.figure(figsize=(10, 5))\n",
    "\n",
    "dendrogram(Z,leaf_font_size=8,truncate_mode='lastp', p=p)# Z = matriz de linkage ,  metodo 'last_p' = a mostrar los ultimos clusters fusionados, 9 el numero de fusiones a mostrar\n",
    "\n",
    "# determianmos el valor de corte \n",
    "max_d = 2500  # Valor de corte\n",
    "clusters = fcluster(Z, max_d, criterion='distance') # f cluster para determinar el corte deseado\n",
    "plt.axhline(y=max_d, color='r', linestyle='--')  # linea horizontal del punto de corte \n",
    "plt.title('Dendrograma de los ultimos 9 clusters')\n",
    "plt.xlabel('Muestras')\n",
    "plt.ylabel('Distancia')\n",
    "plt.show()\n",
    "\n",
    "# numero de clusters luego de establecer el punto de corte \n",
    "num_clusters = len(set(clusters))\n",
    "print(\"Numero de clusters:\", num_clusters)"
   ]
  },
  {
   "cell_type": "markdown",
   "id": "51f156ed",
   "metadata": {},
   "source": [
    "#### Luego de aplicar el Dendrograma para los ultimos 9 clusters y graficarlo podemos ver como debajo de la linea punteada de color rojo se ubican los clusters con los que nos quedaremos para realizar nuestra actividad, cabe destacar que el numero de clusters en observación es aleatorio y depende de la interpretacion de cada dendograma yo en mi caso he elegido 9."
   ]
  },
  {
   "cell_type": "code",
   "execution_count": 372,
   "id": "8ffd4d6e",
   "metadata": {
    "scrolled": false
   },
   "outputs": [
    {
     "name": "stderr",
     "output_type": "stream",
     "text": [
      "/Users/Moraes/anaconda3/lib/python3.10/site-packages/sklearn/cluster/_agglomerative.py:983: FutureWarning: Attribute `affinity` was deprecated in version 1.2 and will be removed in 1.4. Use `metric` instead\n",
      "  warnings.warn(\n"
     ]
    },
    {
     "data": {
      "text/plain": [
       "array([1, 1, 1, ..., 1, 1, 1])"
      ]
     },
     "execution_count": 372,
     "metadata": {},
     "output_type": "execute_result"
    }
   ],
   "source": [
    "k = 2 # nro de clusters\n",
    "\n",
    "modelo = AgglomerativeClustering(n_clusters=k, affinity='euclidean', linkage='ward') # nro de clusters, metrica de distancia \"euclidean\" y metodo \"ward\"\n",
    "modelo.fit(df_PCA) # ajuste del modelo\n",
    "\n",
    "Hclustering_ward = modelo.labels_ # obtención de labels\n",
    "Hclustering_ward"
   ]
  },
  {
   "cell_type": "code",
   "execution_count": 373,
   "id": "3d63a747",
   "metadata": {
    "scrolled": true
   },
   "outputs": [
    {
     "data": {
      "text/html": [
       "<div>\n",
       "<style scoped>\n",
       "    .dataframe tbody tr th:only-of-type {\n",
       "        vertical-align: middle;\n",
       "    }\n",
       "\n",
       "    .dataframe tbody tr th {\n",
       "        vertical-align: top;\n",
       "    }\n",
       "\n",
       "    .dataframe thead th {\n",
       "        text-align: right;\n",
       "    }\n",
       "</style>\n",
       "<table border=\"1\" class=\"dataframe\">\n",
       "  <thead>\n",
       "    <tr style=\"text-align: right;\">\n",
       "      <th></th>\n",
       "      <th>PCA1</th>\n",
       "      <th>PCA2</th>\n",
       "      <th>cluster_hward</th>\n",
       "    </tr>\n",
       "  </thead>\n",
       "  <tbody>\n",
       "    <tr>\n",
       "      <th>0</th>\n",
       "      <td>48.141927</td>\n",
       "      <td>39.279885</td>\n",
       "      <td>1</td>\n",
       "    </tr>\n",
       "    <tr>\n",
       "      <th>1</th>\n",
       "      <td>-14.873807</td>\n",
       "      <td>-2.241151</td>\n",
       "      <td>1</td>\n",
       "    </tr>\n",
       "    <tr>\n",
       "      <th>2</th>\n",
       "      <td>3.371249</td>\n",
       "      <td>3.438150</td>\n",
       "      <td>1</td>\n",
       "    </tr>\n",
       "    <tr>\n",
       "      <th>3</th>\n",
       "      <td>-14.877890</td>\n",
       "      <td>-2.247779</td>\n",
       "      <td>1</td>\n",
       "    </tr>\n",
       "    <tr>\n",
       "      <th>4</th>\n",
       "      <td>-14.268106</td>\n",
       "      <td>-1.394616</td>\n",
       "      <td>1</td>\n",
       "    </tr>\n",
       "    <tr>\n",
       "      <th>...</th>\n",
       "      <td>...</td>\n",
       "      <td>...</td>\n",
       "      <td>...</td>\n",
       "    </tr>\n",
       "    <tr>\n",
       "      <th>6994</th>\n",
       "      <td>-14.880194</td>\n",
       "      <td>-2.251517</td>\n",
       "      <td>1</td>\n",
       "    </tr>\n",
       "    <tr>\n",
       "      <th>6995</th>\n",
       "      <td>-14.788323</td>\n",
       "      <td>-2.142925</td>\n",
       "      <td>1</td>\n",
       "    </tr>\n",
       "    <tr>\n",
       "      <th>6996</th>\n",
       "      <td>-14.822736</td>\n",
       "      <td>-2.173432</td>\n",
       "      <td>1</td>\n",
       "    </tr>\n",
       "    <tr>\n",
       "      <th>6997</th>\n",
       "      <td>-11.064314</td>\n",
       "      <td>1.577548</td>\n",
       "      <td>1</td>\n",
       "    </tr>\n",
       "    <tr>\n",
       "      <th>6998</th>\n",
       "      <td>-14.887733</td>\n",
       "      <td>-2.263753</td>\n",
       "      <td>1</td>\n",
       "    </tr>\n",
       "  </tbody>\n",
       "</table>\n",
       "<p>6999 rows × 3 columns</p>\n",
       "</div>"
      ],
      "text/plain": [
       "           PCA1       PCA2  cluster_hward\n",
       "0     48.141927  39.279885              1\n",
       "1    -14.873807  -2.241151              1\n",
       "2      3.371249   3.438150              1\n",
       "3    -14.877890  -2.247779              1\n",
       "4    -14.268106  -1.394616              1\n",
       "...         ...        ...            ...\n",
       "6994 -14.880194  -2.251517              1\n",
       "6995 -14.788323  -2.142925              1\n",
       "6996 -14.822736  -2.173432              1\n",
       "6997 -11.064314   1.577548              1\n",
       "6998 -14.887733  -2.263753              1\n",
       "\n",
       "[6999 rows x 3 columns]"
      ]
     },
     "execution_count": 373,
     "metadata": {},
     "output_type": "execute_result"
    }
   ],
   "source": [
    "df_final['cluster_hward'] = Hclustering_ward\n",
    "df_PCA['cluster_hward'] = Hclustering_ward\n",
    "df_PCA"
   ]
  },
  {
   "cell_type": "code",
   "execution_count": 374,
   "id": "82500dcf",
   "metadata": {
    "scrolled": true
   },
   "outputs": [
    {
     "data": {
      "text/plain": [
       "1    6602\n",
       "0     397\n",
       "Name: cluster_hward, dtype: int64"
      ]
     },
     "execution_count": 374,
     "metadata": {},
     "output_type": "execute_result"
    }
   ],
   "source": [
    "df_PCA['cluster_hward'].value_counts()"
   ]
  },
  {
   "cell_type": "code",
   "execution_count": 375,
   "id": "87154dc4",
   "metadata": {
    "scrolled": false
   },
   "outputs": [
    {
     "data": {
      "image/png": "[encoded data removed]",
      "text/plain": [
       "<Figure size 800x400 with 1 Axes>"
      ]
     },
     "metadata": {},
     "output_type": "display_data"
    }
   ],
   "source": [
    "plt.figure(figsize=(8, 4))\n",
    "plt.scatter(df_PCA['PCA1'], df_PCA['PCA2'], c=df_PCA['cluster_hward'], cmap='plasma')\n",
    "plt.title('Hierarchical Clustering Ward')\n",
    "plt.xlabel('Característica 1')\n",
    "plt.ylabel('Característica 2')\n",
    "\n",
    "plt.show()"
   ]
  },
  {
   "cell_type": "markdown",
   "id": "b79c03d9",
   "metadata": {},
   "source": [
    "#### La variable Hclustering_ward contendrá las etiquetas de cluster asignadas a cada punto en el conjunto de datos df_PCA después de aplicar el clustering jerárquico aglomerativo con dos clusters, luego de asignarlo a una columna dentro del dataframe llevamos a cabo la representacion grafica mediante scatter plot con sus correspondientes clusters"
   ]
  },
  {
   "cell_type": "code",
   "execution_count": 376,
   "id": "ea6e5a7c",
   "metadata": {},
   "outputs": [
    {
     "name": "stderr",
     "output_type": "stream",
     "text": [
      "/Users/Moraes/anaconda3/lib/python3.10/site-packages/sklearn/cluster/_agglomerative.py:983: FutureWarning: Attribute `affinity` was deprecated in version 1.2 and will be removed in 1.4. Use `metric` instead\n",
      "  warnings.warn(\n"
     ]
    },
    {
     "data": {
      "text/plain": [
       "array([0, 0, 0, ..., 0, 0, 0])"
      ]
     },
     "execution_count": 376,
     "metadata": {},
     "output_type": "execute_result"
    }
   ],
   "source": [
    "k = 2\n",
    "\n",
    "modelo2 = AgglomerativeClustering(n_clusters=k, affinity='euclidean', linkage='average')\n",
    "modelo2.fit(df_PCA)\n",
    "\n",
    "Hclustering_average =modelo2.labels_\n",
    "Hclustering_average"
   ]
  },
  {
   "cell_type": "code",
   "execution_count": 377,
   "id": "bb4fac1a",
   "metadata": {
    "scrolled": true
   },
   "outputs": [
    {
     "data": {
      "text/html": [
       "<div>\n",
       "<style scoped>\n",
       "    .dataframe tbody tr th:only-of-type {\n",
       "        vertical-align: middle;\n",
       "    }\n",
       "\n",
       "    .dataframe tbody tr th {\n",
       "        vertical-align: top;\n",
       "    }\n",
       "\n",
       "    .dataframe thead th {\n",
       "        text-align: right;\n",
       "    }\n",
       "</style>\n",
       "<table border=\"1\" class=\"dataframe\">\n",
       "  <thead>\n",
       "    <tr style=\"text-align: right;\">\n",
       "      <th></th>\n",
       "      <th>PCA1</th>\n",
       "      <th>PCA2</th>\n",
       "      <th>cluster_hward</th>\n",
       "      <th>cluster_haverage</th>\n",
       "    </tr>\n",
       "  </thead>\n",
       "  <tbody>\n",
       "    <tr>\n",
       "      <th>0</th>\n",
       "      <td>48.141927</td>\n",
       "      <td>39.279885</td>\n",
       "      <td>1</td>\n",
       "      <td>0</td>\n",
       "    </tr>\n",
       "    <tr>\n",
       "      <th>1</th>\n",
       "      <td>-14.873807</td>\n",
       "      <td>-2.241151</td>\n",
       "      <td>1</td>\n",
       "      <td>0</td>\n",
       "    </tr>\n",
       "    <tr>\n",
       "      <th>2</th>\n",
       "      <td>3.371249</td>\n",
       "      <td>3.438150</td>\n",
       "      <td>1</td>\n",
       "      <td>0</td>\n",
       "    </tr>\n",
       "    <tr>\n",
       "      <th>3</th>\n",
       "      <td>-14.877890</td>\n",
       "      <td>-2.247779</td>\n",
       "      <td>1</td>\n",
       "      <td>0</td>\n",
       "    </tr>\n",
       "    <tr>\n",
       "      <th>4</th>\n",
       "      <td>-14.268106</td>\n",
       "      <td>-1.394616</td>\n",
       "      <td>1</td>\n",
       "      <td>0</td>\n",
       "    </tr>\n",
       "    <tr>\n",
       "      <th>...</th>\n",
       "      <td>...</td>\n",
       "      <td>...</td>\n",
       "      <td>...</td>\n",
       "      <td>...</td>\n",
       "    </tr>\n",
       "    <tr>\n",
       "      <th>6994</th>\n",
       "      <td>-14.880194</td>\n",
       "      <td>-2.251517</td>\n",
       "      <td>1</td>\n",
       "      <td>0</td>\n",
       "    </tr>\n",
       "    <tr>\n",
       "      <th>6995</th>\n",
       "      <td>-14.788323</td>\n",
       "      <td>-2.142925</td>\n",
       "      <td>1</td>\n",
       "      <td>0</td>\n",
       "    </tr>\n",
       "    <tr>\n",
       "      <th>6996</th>\n",
       "      <td>-14.822736</td>\n",
       "      <td>-2.173432</td>\n",
       "      <td>1</td>\n",
       "      <td>0</td>\n",
       "    </tr>\n",
       "    <tr>\n",
       "      <th>6997</th>\n",
       "      <td>-11.064314</td>\n",
       "      <td>1.577548</td>\n",
       "      <td>1</td>\n",
       "      <td>0</td>\n",
       "    </tr>\n",
       "    <tr>\n",
       "      <th>6998</th>\n",
       "      <td>-14.887733</td>\n",
       "      <td>-2.263753</td>\n",
       "      <td>1</td>\n",
       "      <td>0</td>\n",
       "    </tr>\n",
       "  </tbody>\n",
       "</table>\n",
       "<p>6999 rows × 4 columns</p>\n",
       "</div>"
      ],
      "text/plain": [
       "           PCA1       PCA2  cluster_hward  cluster_haverage\n",
       "0     48.141927  39.279885              1                 0\n",
       "1    -14.873807  -2.241151              1                 0\n",
       "2      3.371249   3.438150              1                 0\n",
       "3    -14.877890  -2.247779              1                 0\n",
       "4    -14.268106  -1.394616              1                 0\n",
       "...         ...        ...            ...               ...\n",
       "6994 -14.880194  -2.251517              1                 0\n",
       "6995 -14.788323  -2.142925              1                 0\n",
       "6996 -14.822736  -2.173432              1                 0\n",
       "6997 -11.064314   1.577548              1                 0\n",
       "6998 -14.887733  -2.263753              1                 0\n",
       "\n",
       "[6999 rows x 4 columns]"
      ]
     },
     "execution_count": 377,
     "metadata": {},
     "output_type": "execute_result"
    }
   ],
   "source": [
    "df_final['cluster_haverage'] = Hclustering_average\n",
    "df_PCA['cluster_haverage'] = Hclustering_average\n",
    "df_PCA"
   ]
  },
  {
   "cell_type": "code",
   "execution_count": 378,
   "id": "f6f6727e",
   "metadata": {},
   "outputs": [
    {
     "data": {
      "text/plain": [
       "0    6996\n",
       "1       3\n",
       "Name: cluster_haverage, dtype: int64"
      ]
     },
     "execution_count": 378,
     "metadata": {},
     "output_type": "execute_result"
    }
   ],
   "source": [
    "df_PCA['cluster_haverage'].value_counts()"
   ]
  },
  {
   "cell_type": "code",
   "execution_count": 379,
   "id": "fcf7a249",
   "metadata": {},
   "outputs": [
    {
     "data": {
      "image/png": "[encoded data removed]",
      "text/plain": [
       "<Figure size 800x400 with 1 Axes>"
      ]
     },
     "metadata": {},
     "output_type": "display_data"
    }
   ],
   "source": [
    "plt.figure(figsize=(8, 4))\n",
    "plt.scatter(df_PCA['PCA1'], df_PCA['PCA2'], c=df_PCA['cluster_haverage'], cmap='viridis')\n",
    "plt.title('Hierarchical Clustering Average')\n",
    "plt.xlabel('Característica 1')\n",
    "plt.ylabel('Característica 2')\n",
    "\n",
    "plt.show()"
   ]
  },
  {
   "cell_type": "markdown",
   "id": "424546a3",
   "metadata": {},
   "source": [
    "#### Luego de realizar las prubas con dos metodos diferentes, podemos ver las diferentes distribuciones que ofrece cada clusterizacion segun se utilice el metodo Ward o Average."
   ]
  },
  {
   "cell_type": "markdown",
   "id": "41c0bc17",
   "metadata": {},
   "source": [
    "## - Exercici 3\n",
    "### Calcula el rendiment del clustering mitjançant un paràmetre com pot ser silhouette."
   ]
  },
  {
   "cell_type": "code",
   "execution_count": 380,
   "id": "3f23464e",
   "metadata": {},
   "outputs": [
    {
     "name": "stdout",
     "output_type": "stream",
     "text": [
      "Rendiment Kmeans: 87.65%\n",
      "Rendiment Ward: 89.32%\n",
      "Rendiment Average: 96.40%\n"
     ]
    }
   ],
   "source": [
    "from sklearn.metrics import silhouette_score\n",
    "\n",
    "# Calculem el rendiment amb silhouette scores per cada algoritme\n",
    "\n",
    "kmeans_silhouette = silhouette_score(df_PCA, cluster_labels)\n",
    "ward_silhouette = silhouette_score(df_PCA, Hclustering_ward)\n",
    "average_silhouette = silhouette_score(df_PCA, Hclustering_average)\n",
    "\n",
    "print(\"Rendiment Kmeans: {:.2f}%\".format(kmeans_silhouette * 100))\n",
    "print(\"Rendiment Ward: {:.2f}%\".format(ward_silhouette * 100))\n",
    "print(\"Rendiment Average: {:.2f}%\".format(average_silhouette * 100))"
   ]
  },
  {
   "cell_type": "code",
   "execution_count": 381,
   "id": "ad743e4e",
   "metadata": {},
   "outputs": [
    {
     "data": {
      "image/png": "[encoded data removed]",
      "text/plain": [
       "<Figure size 640x480 with 1 Axes>"
      ]
     },
     "metadata": {},
     "output_type": "display_data"
    }
   ],
   "source": [
    "algoritmos = ['Kmeans', 'Ward', 'Average']\n",
    "\n",
    "silhouette_scores = [kmeans_silhouette, ward_silhouette, average_silhouette]\n",
    "\n",
    "plt.bar(algoritmos, silhouette_scores, color=['blue', 'green', 'orange'])\n",
    "plt.ylim(0, 1)\n",
    "\n",
    "plt.xlabel('Algoritmo')\n",
    "plt.ylabel('Rendimiento Silhouette')\n",
    "plt.title('Comparación del Rendimiento Silhouette entre Algoritmos')\n",
    "\n",
    "plt.show()"
   ]
  },
  {
   "cell_type": "markdown",
   "id": "c1a83b49",
   "metadata": {},
   "source": [
    "#### Luego de comparar los rendimientos de los 3 modelos mediante silhoutte, podemos ver que el metodo Average tiene un mayor rendimiento con un 96,4 % frente a un 89,32 % del motodo Ward y 87,65% del Kmeans.  Estos porcetajes indican cuan separados estan los puntos entre si dentro de los clusters, toda medida que se acerque a 1 o al 100% en este caso indica un mejor rendimiento del modelo."
   ]
  }
 ],
 "metadata": {
  "kernelspec": {
   "display_name": "Python 3 (ipykernel)",
   "language": "python",
   "name": "python3"
  },
  "language_info": {
   "codemirror_mode": {
    "name": "ipython",
    "version": 3
   },
   "file_extension": ".py",
   "mimetype": "text/x-python",
   "name": "python",
   "nbconvert_exporter": "python",
   "pygments_lexer": "ipython3",
   "version": "3.10.9"
  }
 },
 "nbformat": 4,
 "nbformat_minor": 5
}
